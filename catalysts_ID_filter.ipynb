{
 "cells": [
  {
   "cell_type": "code",
   "execution_count": 1,
   "metadata": {},
   "outputs": [],
   "source": [
    "import pandas as pd"
   ]
  },
  {
   "cell_type": "code",
   "execution_count": 2,
   "metadata": {},
   "outputs": [],
   "source": [
    "infile = \"catalysts-11-00286-s001.csv\"\n",
    "\n",
    "try:\n",
    "    df = pd.read_csv(infile, encoding = 'utf-8')\n",
    "except:\n",
    "    df = pd.read_csv(infile, encoding = 'latin1')"
   ]
  },
  {
   "cell_type": "code",
   "execution_count": 3,
   "metadata": {},
   "outputs": [
    {
     "name": "stdout",
     "output_type": "stream",
     "text": [
      "Index(['Enzyme Name', 'UniprotID', 'ECNumber', 'Organism', 'PDB ID',\n",
      "       'Chain ID', 'Mutated Site', 'Reaction', 'Reaction Substrate ',\n",
      "       'SMILES of Substrate', 'Product', 'Temperature(¡ãC)', 'pH',\n",
      "       'Catalytic Efficicnecy Change', 'PubMedID'],\n",
      "      dtype='object')\n"
     ]
    }
   ],
   "source": [
    "print(df.columns)"
   ]
  },
  {
   "cell_type": "code",
   "execution_count": 17,
   "metadata": {},
   "outputs": [
    {
     "name": "stdout",
     "output_type": "stream",
     "text": [
      "['1MJ5', '2D73', '2D73', '3IFA', '1SWW', '1SWW', '1SWW', '1SWW', '1SWW', '1SWW', '1A59', '1A59', '1A59', '1A59', '1A59', '3DYN', '3DYN', '3TG0', '3TG0', '3TG0', '3TG0', '3TG0', '3TG0', '3TG0', '3TG0', '1EYK', '1EYK', '1EYK', '1EYK', '1EYK', '1FBH', '1DP0', '1JYV', '1JYW', '1JYV', '1JYW', '1JYV', '1JYW', '1JYW', '1JYV', '1DP0', '2ST1', '2ST1', '1B12', '1B12', '1B12', '1B12', '1B12', '1B12', '1B12', '1B12', '1B12', '1B12', '1B12', '1B12', '2BLS', '1B9V', '1B9V', '1B9V', '1B9V', '1B9V', '1B9V', '1BC2', '1BC2', '1BC2', '1BC2', '1BC2', '1BC2', '1HNY', '1XX2', '1XX2', '1XX2', '1XX2', '1PNK', '1PNK', '1PNK', '1GM7', '1RLA', '1RLA', '1RLA', '1RLA', '1RLA', '1RLA', '1FTA', '1HZY', '1HZY', '1HZY', '1HZY', '1HZY', '1HZY', '1HZY', '1FUG', '1FUG', '1FUG', '1FUG', '2G2U', '2G2U', '2G2U', '2G2U', '1MAT', '1QJV', '1QJV', '1QJV', '1QJV', '1QJV', '1PHR', '1PHR', '1PHR', '1PHR', '1PHR', '1PHR', '2UXY', '2UXY', '2A9G', '2A9G', '2A9G', '2A9G', '2A9G', '1YTS', '1YTS', '1YTS', '1YTS', '1YTS', '1YTS', '1YTS', '1YTS', '1YTS', '1YTS', '1YTS', '1G68', '2HA5', '2HA5', '2HA5', '2HA5', '2HA5', '2HA5', '2HA5', '2HA5', '2HA5', '2HA5', '4PQE', '4PQE', '4PQE', '4PQE', '4PQE', '4PQE', '4PQE', '4PQE', '4PQE', '4PQE', '4PQE', '4PQE', '4KRX', '4KRX', '4KRX', '4KRX', '4KRX', '4KRX', '4KRX', '1BIF', '1BIF', '1BIF', '1BIF', '1BIF', '1ZNB', '1ZNB', '1ZNB', '1ZNB', '1ZNB', '1ZNB', '1X8G', '1X8G', '1X8G', '1V04', '1V04', '1PFQ', '5W1B', '5W1B', '5W1B', '3SZA', '2GT4', '2GT4', '2GT4', '2GT4', '1RYA', '2GT4', '2GT4', '2GT4', '2GT4', '2GT4', '2GT4', '2GT4', '2GT4', '2GT4', '2GT4', '2GT4', '2GT4', '2GT4', '3P7L', '3P7L', '5GL8', '5GL8', '5GL8', '5GL8', '5GL8', '5GL8', '5GL8', '5GL8', '5GL8', '1UHV', '1E25', '1E25', '1E25', '1E25', '1E25', '1E25', '1E25', '1HXJ', '1HXJ', '1HXJ', '1HXJ', '1HXJ', '1HXJ', '1HXJ', '1HXJ', '1HXJ', '1HXJ', '4FIT', '1SML', '1SML', '1SML', '1SML', '1SML', '1SML', '6ETK', '1BTL', '1BTL', '1BTL', '1BTL', '1BTL', '1BTL', '1BTL', '5FC1', '5FC1', '5FC1', '1UV4', '1UV4', '1UV4', '1UV4', '5XW4', '5XW4', '5XW4', '5XW4', '5XW4', '5XW4', '5XW4', '5XW4', '5XW4', '2DEA', '5Z3G', '5Z3G', '5Z3G', '5Z3G', '1QH3', '2E3Z', '2E3Z', '2E3Z', '2E3Z', '2E3Z', '1Z5G', '1Z5G', '2RGL', '2RGL', '2RGL', '2RGL', '3A24', '3A24', '5A64 ', '5A64 ', '5A64 ', '5A64 ', '5A64 ', '5A64 ', '5A64 ', '5A64 ', '5A64 ', '1O8U', '1O8U', '1O8U', '1O8U', '1O8U', '2ZIC', '3AIU', '3AIU', '3AIV', '3AIV', '3AIV', '3AIV', '3AIU', '3AIU', '3AIU', '2JFE', '2JFE', '2JFE', '2JFE', '2JFE', '3F5O', '3F5O', '3F5O', '3F5O', '3F5O', '3F5O', '3F5O', '3F5O']\n",
      "['1,2-Dibromoethane', 'p-Nitrophenyl-alpha-D-glucoside', 'p-Nitrophenyl-alpha-D-glucoside', 'D-Fructose 1,6-bisphosphate', 'Phosphonoacetaldehyde', 'Phosphonoacetaldehyde', 'Phosphonoacetaldehyde', 'Phosphonoacetaldehyde', '2-Phosphonoacetaldehyde', '2-Phosphonoacetaldehyde', 'Acetyl-CoA', 'Acetyl-CoA', 'Propanoyl-CoA', 'Oxaloacetate', 'Oxaloacetate', \"3',5'-Cyclic AMP\", \"3',5'-Cyclic AMP\", '4-Nitrophenyl phosphate', '4-Nitrophenyl phosphate', '4-Nitrophenyl phosphate', '4-Nitrophenyl phosphate', '4-Nitrophenyl phosphate', '4-Nitrophenyl phosphate', '4-Nitrophenyl phosphate', '4-Nitrophenyl phosphate', 'D-Fructose 1,6-bisphosphate', 'D-Fructose 1,6-bisphosphate', 'D-Fructose 1,6-bisphosphate', 'D-Fructose 1,6-bisphosphate', 'D-Fructose 1,6-bisphosphate', 'D-Fructose 1,6-bisphosphate', '4-Nitrophenyl-alpha-L-arabinopyranoside', 'o-Nitrophenyl-beta-D-galactopyranoside', '4-Nitrophenyl-beta-D-galactopyranoside', '2-Nitrophenyl-beta-D-galactopyranoside', '4-Nitrophenyl-beta-D-galactopyranoside', '2-Nitrophenyl-beta-D-galactopyranoside', '4-Nitrophenyl-beta-D-galactopyranoside', '4-Nitrophenyl-beta-D-galactopyranoside', 'o-Nitrophenyl-beta-D-galactopyranoside', '3,4-Dinitrophenyl-beta-D-galactopyranoside', 'Succinyl-Ala-Ala-Pro-Phe-p-nitroanilide', 'Succinyl-Ala-Ala-Pro-Phe-p-nitroanilide', 'Peptide', 'Peptide', 'Peptide', 'Peptide', 'Peptide', 'Peptide', 'Peptide', 'Peptide', 'Peptide', 'Peptide', 'Peptide', 'Peptide', 'Penicillin G', \"2'-(4-Methylumbelliferyl)-alpha-D-N-acetylneuraminic acid\", \"2'-(4-Methylumbelliferyl)-alpha-D-N-acetylneuraminic acid\", \"2'-(4-Methylumbelliferyl)-alpha-D-N-acetylneuraminic acid\", \"2'-(4-Methylumbelliferyl)-alpha-D-N-acetylneuraminic acid\", \"2'-(4-Methylumbelliferyl)-alpha-D-N-acetylneuraminic acid\", \"2'-(4-Methylumbelliferyl)-alpha-D-N-acetylneuraminic acid\", 'Nitrocefin', 'Penicillin G', 'Penicillin G', 'Penicillin G', 'Penicillin G', 'Nitrocefin', 'Maltotriose', 'Ceftazidime', 'Ceftazidime', 'Ceftazidime', 'Ceftazidime', '2-Nitro-5-[(Phenylacetyl)amino]benzoic acid', '2-Nitro-5-[(Phenylacetyl)amino]benzoic acid', '2-Phenylacetamide', 'Penicillin G', 'L-Arginine', 'L-Arginine', 'L-Arginine', 'L-Arginine', 'L-Arginine', 'L-Arginine', 'D-Fructose 1,6-bisphosphate', 'Paraoxon', 'Paraoxon', 'Paraoxon', 'Paraoxon', 'Paraoxon', 'Paraoxon', 'Paraoxon', 'Triphosphate', 'Triphosphate', 'Triphosphate', 'Triphosphate', 'Nitrocefin', 'Nitrocefin', 'Ampicillin', 'Cephalothin', 'Met-Gly-Met-Met', 'Pectin', 'Pectin', 'Pectin', 'Pectin', 'Pectin', '4-Nitrophenyl phosphate', '4-Nitrophenyl phosphate', 'Phosphotyrosine', 'Phosphotyrosine', 'Phosphotyrosine', 'Phosphotyrosine', 'Acetamide', 'Acetamide', 'L-Arginine', 'L-Arginine', 'L-Arginine', 'L-Arginine', 'L-Arginine', '4-Nitrophenyl phosphate', '4-Nitrophenyl phosphate', '4-Nitrophenyl phosphate', '4-Nitrophenyl phosphate', '4-Nitrophenyl phosphate', '4-Nitrophenyl phosphate', '4-Nitrophenyl phosphate', '4-Nitrophenyl phosphate', '4-Nitrophenyl phosphate', '4-Nitrophenyl phosphate', '4-Nitrophenyl phosphate', 'Penicillin G', 'Acetylthiocholine', 'Acetylthiocholine', 'Acetylthiocholine', 'Acetylthiocholine', 'Acetylthiocholine', 'Acetylthiocholine', 'Acetylthiocholine', 'Acetylthiocholine', 'Acetylthiocholine', 'Acetylthiocholine', 'Acetylthiocholine', 'Acetylthiocholine', 'Acetylthiocholine', 'Acetylthiocholine', 'Acetylthiocholine', 'Acetylthiocholine', 'Acetylthiocholine', 'Acetylthiocholine', '4-Nitrophenyl acetate', '4-Nitrophenyl acetate', 'Propionylthiocholine', 'Propionylthiocholine', 'p-Nitrophenyl butyrate', 'p-Nitrophenyl butyrate', 'p-Nitrophenyl butyrate', 'p-Nitrophenyl butyrate', 'p-Nitrophenyl butyrate', 'p-Nitrophenyl butyrate', 'p-Nitrophenyl butyrate', 'D-Fructose 2,6-bisphosphate', 'D-Fructose 2,6-bisphosphate', 'D-Fructose 2,6-bisphosphate', 'D-Fructose 2,6-bisphosphate', 'D-Fructose 2,6-bisphosphate', 'Penicillin G', 'Penicillin G', 'Penicillin G', 'Penicillin G', 'Penicillin G', 'Cephaloridine', 'Nitrocefin', 'Nitrocefin', 'Nitrocefin', 'Paraoxon', 'Paraoxon', 'Gly-Pro-4-Nitroanilide', 'S-Ethyl-L-cysteine', 'S-Ethyl-L-cysteine', 'S-Ethyl-L-cysteine', '4-Nitrophenyl acetate', 'GDP-alpha-D-mannose', 'GDP-alpha-D-mannose', 'GDP-alpha-D-mannose', 'GDP-alpha-D-mannose', 'GDP-alpha-D-Glucose', 'GDP-alpha-D-mannose', 'GDP-alpha-D-mannose', 'GDP-alpha-D-mannose', 'GDP-alpha-D-mannose', 'GDP-alpha-D-mannose', 'GDP-alpha-D-mannose', 'GDP-alpha-D-mannose', 'GDP-alpha-D-mannose', 'GDP-alpha-D-mannose', 'GDP-alpha-D-mannose', 'GDP-alpha-D-mannose', 'GDP-alpha-D-mannose', 'GDP-alpha-D-mannose', '2-Aminobenzoyl-GGFLRKHGQ-N-(2,4-dinitrophenyl)ethylenediamine', '2-Aminobenzoyl-GGFLRKHGQ-N-(2,4-dinitrophenyl)ethylenediamine', 'Succinyl-Ala-Ala-Pro-Phe-p-nitroanilide', 'Succinyl-Ala-Ala-Pro-Phe-p-nitroanilide', 'Succinyl-Ala-Ala-Pro-Phe-p-nitroanilide', 'Succinyl-Ala-Ala-Pro-Phe-p-nitroanilide', 'Succinyl-Ala-Ala-Pro-Phe-p-nitroanilide', 'Succinyl-Ala-Ala-Pro-Phe-p-nitroanilide', 'Succinyl-Ala-Ala-Pro-Phe-p-nitroanilide', 'Succinyl-Ala-Ala-Pro-Phe-p-nitroanilide', 'Succinyl-Ala-Ala-Pro-Phe-p-nitroanilide', 'p-Nitrophenyl-beta-D-xylopyranoside', 'Cephaloridine', 'Ceftazidime', 'Ceftazidime', 'Ceftazidime', 'Ceftazidime', 'Ceftazidime', 'Ceftazidime', '4-Methylumbelliferyl-beta-D-glucoside', '4-Methylumbelliferyl-beta-D-glucoside', 'p-Nitrophenyl-beta-D-glucoside', 'p-Nitrophenyl-beta-D-glucoside', 'p-Nitrophenyl-beta-D-glucoside', 'p-Nitrophenyl-beta-D-glucoside', 'p-Nitrophenyl-beta-D-glucoside', '4-Methylumbelliferyl-beta-D-glucoside', '4-Methylumbelliferyl-beta-D-glucoside', '4-Methylumbelliferyl-beta-D-glucoside', \"P1,P3-Bis(5'-adenosyl)-triphosphate\", 'Nitrocefin', 'Nitrocefin', 'Biapenem', 'Nitrocefin', 'Nitrocefin', 'Cefoxitin', \"2',3'-Cyclic CMP\", 'Ampicillin', 'Cephalothin', 'Cephalothin', 'Penicillin G', 'Cefotaxime', 'Cefotaxime', 'Benzylpenicillin', 'ATP', 'ATP', 'ATP', 'Arabinotetraose', 'Arabinotetraose', 'Arabinotetraose', 'Arabinotetraose', '4-Nitrophenyl phosphate', '4-Nitrophenyl phosphate', '4-Nitrophenyl phosphate', '4-Nitrophenyl phosphate', '4-Nitrophenyl phosphate', '4-Nitrophenyl phosphate', '6,8-Difluoro-4-methylumbelliferyl phosphate', '6,8-Difluoro-4-methylumbelliferyl phosphate', '6,8-Difluoro-4-methylumbelliferyl phosphate', 'L-Leucine-p-nitroanilide', 'ATP', 'ATP', 'ATP', 'ATP', '(R)-S-Lactoylglutathione', 'Cellobiose', 'Cellobiose', 'Cellobiose', 'Cellobiose', 'Cellobiose', '4-Nitrophenyl phosphate', '4-Nitrophenyl phosphate', 'Cellobiose', 'Cellobiose', 'Cellotriose', 'Cellotriose', 'p-Nitrophenyl-alpha-D-galactoside', 'p-Nitrophenyl-alpha-D-galactoside', 'Thiamine triphosphate', 'Thiamine triphosphate', 'Thiamine triphosphate', 'Thiamine triphosphate', 'Thiamine triphosphate', 'Thiamine triphosphate', 'Thiamine triphosphate', 'Thiamine triphosphate', 'Thiamine triphosphate', '6-Oxocamphor', '6-Oxocamphor', '6-Oxocamphor', '6-Oxocamphor', '6-Oxocamphor', 'Isomaltose', 'DIBOA glucoside', 'DIBOA glucoside', 'DIMBOA glucoside', 'DIMBOA glucoside', 'DIMBOA glucoside', 'DIMBOA glucoside', 'p-Nitrophenyl-beta-D-glucoside', 'p-Nitrophenyl-beta-D-glucoside', 'p-Nitrophenyl-beta-D-glucoside', 'p-Nitrophenyl-beta-D-fucopyranoside', '4-Nitrophenyl-alpha-L-arabinopyranoside', 'p-Nitrophenyl-beta-D-glucoside', '4-Nitrophenyl-beta-D-galactopyranoside', '4-Nitrophenyl-beta-D-galactopyranoside', '3-Hydroxyphenylacetyl-CoA', '3-Hydroxyphenylacetyl-CoA', '3-Hydroxyphenylacetyl-CoA', '3-Hydroxyphenylacetyl-CoA', '3-Hydroxyphenylacetyl-CoA', '3-Hydroxyphenylacetyl-CoA', '3-Hydroxyphenylacetyl-CoA', '3-Hydroxyphenylacetyl-CoA']\n",
      "['C(CBr)Br', 'C1=CC(=CC=C1[N+](=O)[O-])OC2C(C(C(C(O2)CO)O)O)O', 'C1=CC(=CC=C1[N+](=O)[O-])OC2C(C(C(C(O2)CO)O)O)O', nan, '[H]C(=O)CP(O)(O)=O', '[H]C(=O)CP(O)(O)=O', '[H]C(=O)CP(O)(O)=O', '[H]C(=O)CP(O)(O)=O', '[H]C(=O)CP(O)(O)=O', '[H]C(=O)CP(O)(O)=O', nan, nan, nan, 'OC(=O)CC(=O)C(O)=O', 'OC(=O)CC(=O)C(O)=O', nan, nan, nan, nan, nan, nan, nan, nan, nan, nan, 'OC1C(COP(O)(O)=O)OC(O)(COP(O)(O)=O)C1(O)', 'OC1C(COP(O)(O)=O)OC(O)(COP(O)(O)=O)C1(O)', 'OC1C(COP(O)(O)=O)OC(O)(COP(O)(O)=O)C1(O)', 'OC1C(COP(O)(O)=O)OC(O)(COP(O)(O)=O)C1(O)', 'OC1C(COP(O)(O)=O)OC(O)(COP(O)(O)=O)C1(O)', 'OC1C(COP(O)(O)=O)OC(O)(COP(O)(O)=O)C1(O)', 'C1[C@@H]([C@@H]([C@H]([C@@H](O1)OC2=CC=C(C=C2)[N+](=O)[O-])O)O)O', nan, nan, nan, nan, nan, nan, nan, nan, 'c1cc(c(cc1O[C@@H]2[C@H]([C@H]([C@H](O[C@H]2[O-])CO)O)O)[N+](=O)[O-])[N+](=O)[O-]', 'C[C@@H](C(=O)N[C@@H](C)C(=O)N1CCC[C@H]1C(=O)N[C@@H](Cc2ccccc2)C(=O)Nc3ccc(cc3)[N+](=O)[O-])NC(=O)CCC(=O)O', 'C[C@@H](C(=O)N[C@@H](C)C(=O)N1CCC[C@H]1C(=O)N[C@@H](Cc2ccccc2)C(=O)Nc3ccc(cc3)[N+](=O)[O-])NC(=O)CCC(=O)O', '[*]C(N)C(=O)NC([*])C(O)=O', '[*]C(N)C(=O)NC([*])C(O)=O', '[*]C(N)C(=O)NC([*])C(O)=O', '[*]C(N)C(=O)NC([*])C(O)=O', '[*]C(N)C(=O)NC([*])C(O)=O', '[*]C(N)C(=O)NC([*])C(O)=O', '[*]C(N)C(=O)NC([*])C(O)=O', '[*]C(N)C(=O)NC([*])C(O)=O', '[*]C(N)C(=O)NC([*])C(O)=O', '[*]C(N)C(=O)NC([*])C(O)=O', '[*]C(N)C(=O)NC([*])C(O)=O', '[*]C(N)C(=O)NC([*])C(O)=O', nan, nan, nan, nan, nan, nan, nan, 'c1cc(sc1)CC(=O)N[C@H]2[C@@H]3N(C2=O)C(=C(CS3)/C=C/c4ccc(cc4[N+](=O)[O-])[N+](=O)[O-])C(=O)O', nan, nan, nan, nan, 'c1cc(sc1)CC(=O)N[C@H]2[C@@H]3N(C2=O)C(=C(CS3)/C=C/c4ccc(cc4[N+](=O)[O-])[N+](=O)[O-])C(=O)O', 'OCC3OC(OC1C(O)C(O)C(OC1(CO))OC2C(O)C(O)C(O)OC2(CO))C(O)C(O)C3(O)', '[H]C34(C(NC(=O)C(=NOC(C)(C)C(O)=O)c1csc(N)n1)C(=O)N4(C(C(=O)[O-])=C(C[n+]2ccccc2)CS3))', '[H]C34(C(NC(=O)C(=NOC(C)(C)C(O)=O)c1csc(N)n1)C(=O)N4(C(C(=O)[O-])=C(C[n+]2ccccc2)CS3))', '[H]C34(C(NC(=O)C(=NOC(C)(C)C(O)=O)c1csc(N)n1)C(=O)N4(C(C(=O)[O-])=C(C[n+]2ccccc2)CS3))', '[H]C34(C(NC(=O)C(=NOC(C)(C)C(O)=O)c1csc(N)n1)C(=O)N4(C(C(=O)[O-])=C(C[n+]2ccccc2)CS3))', nan, nan, 'NC(=O)Cc1ccccc1', nan, 'NC(=N)NCCCC(N)C(O)=O', 'NC(=N)NCCCC(N)C(O)=O', 'NC(=N)NCCCC(N)C(O)=O', 'NC(=N)NCCCC(N)C(O)=O', 'NC(=N)NCCCC(N)C(O)=O', 'NC(=N)NCCCC(N)C(O)=O', nan, 'CCOP(=O)(OCC)Oc1ccc(cc1)[N+](=O)[O-]', 'CCOP(=O)(OCC)Oc1ccc(cc1)[N+](=O)[O-]', 'CCOP(=O)(OCC)Oc1ccc(cc1)[N+](=O)[O-]', 'CCOP(=O)(OCC)Oc1ccc(cc1)[N+](=O)[O-]', 'CCOP(=O)(OCC)Oc1ccc(cc1)[N+](=O)[O-]', 'CCOP(=O)(OCC)Oc1ccc(cc1)[N+](=O)[O-]', 'CCOP(=O)(OCC)Oc1ccc(cc1)[N+](=O)[O-]', nan, nan, nan, nan, 'c1cc(sc1)CC(=O)N[C@H]2[C@@H]3N(C2=O)C(=C(CS3)/C=C/c4ccc(cc4[N+](=O)[O-])[N+](=O)[O-])C(=O)O', 'c1cc(sc1)CC(=O)N[C@H]2[C@@H]3N(C2=O)C(=C(CS3)/C=C/c4ccc(cc4[N+](=O)[O-])[N+](=O)[O-])C(=O)O', nan, '[H]C23(C(NC(=O)Cc1cccs1)C(=O)N3(C(C(O)=O)=C(COC(C)=O)CS2))', nan, nan, nan, nan, nan, nan, nan, nan, 'NC(Cc1ccc(cc1)OP(O)(O)=O)C(O)=O', 'NC(Cc1ccc(cc1)OP(O)(O)=O)C(O)=O', 'NC(Cc1ccc(cc1)OP(O)(O)=O)C(O)=O', 'NC(Cc1ccc(cc1)OP(O)(O)=O)C(O)=O', nan, nan, 'NC(=N)NCCCC(N)C(O)=O', 'NC(=N)NCCCC(N)C(O)=O', 'NC(=N)NCCCC(N)C(O)=O', 'NC(=N)NCCCC(N)C(O)=O', 'NC(=N)NCCCC(N)C(O)=O', nan, nan, nan, nan, nan, nan, nan, nan, nan, nan, nan, nan, nan, nan, nan, nan, nan, nan, nan, nan, nan, nan, nan, nan, nan, nan, nan, nan, nan, nan, nan, nan, nan, nan, nan, nan, nan, nan, nan, nan, nan, nan, nan, nan, nan, nan, nan, nan, nan, nan, nan, '[H]C34(C(NC(=O)Cc1cccs1)C(=O)N4(C(C(=O)O)=C(C[n+]2ccccc2)CS3))', 'c1cc(sc1)CC(=O)N[C@H]2[C@@H]3N(C2=O)C(=C(CS3)/C=C/c4ccc(cc4[N+](=O)[O-])[N+](=O)[O-])C(=O)O', 'c1cc(sc1)CC(=O)N[C@H]2[C@@H]3N(C2=O)C(=C(CS3)/C=C/c4ccc(cc4[N+](=O)[O-])[N+](=O)[O-])C(=O)O', 'c1cc(sc1)CC(=O)N[C@H]2[C@@H]3N(C2=O)C(=C(CS3)/C=C/c4ccc(cc4[N+](=O)[O-])[N+](=O)[O-])C(=O)O', 'CCOP(=O)(OCC)Oc1ccc(cc1)[N+](=O)[O-]', 'CCOP(=O)(OCC)Oc1ccc(cc1)[N+](=O)[O-]', 'C1C[C@H](N(C1)C(=O)CNC(=O)OCC2=CC=CC=C2)C(=O)NC3=CC=C(C=C3)[N+](=O)[O-]', nan, nan, nan, nan, 'c1nc2c(=O)[nH]c(nc2n1[C@H]3[C@@H]([C@@H]([C@H](O3)COP(=O)(O)OP(=O)(O)O[C@@H]4[C@H]([C@H]([C@@H]([C@H](O4)CO)O)O)O)O)O)N', 'c1nc2c(=O)[nH]c(nc2n1[C@H]3[C@@H]([C@@H]([C@H](O3)COP(=O)(O)OP(=O)(O)O[C@@H]4[C@H]([C@H]([C@@H]([C@H](O4)CO)O)O)O)O)O)N', 'c1nc2c(=O)[nH]c(nc2n1[C@H]3[C@@H]([C@@H]([C@H](O3)COP(=O)(O)OP(=O)(O)O[C@@H]4[C@H]([C@H]([C@@H]([C@H](O4)CO)O)O)O)O)O)N', 'c1nc2c(=O)[nH]c(nc2n1[C@H]3[C@@H]([C@@H]([C@H](O3)COP(=O)(O)OP(=O)(O)O[C@@H]4[C@H]([C@H]([C@@H]([C@H](O4)CO)O)O)O)O)O)N', nan, 'c1nc2c(=O)[nH]c(nc2n1[C@H]3[C@@H]([C@@H]([C@H](O3)COP(=O)(O)OP(=O)(O)O[C@@H]4[C@H]([C@H]([C@@H]([C@H](O4)CO)O)O)O)O)O)N', 'c1nc2c(=O)[nH]c(nc2n1[C@H]3[C@@H]([C@@H]([C@H](O3)COP(=O)(O)OP(=O)(O)O[C@@H]4[C@H]([C@H]([C@@H]([C@H](O4)CO)O)O)O)O)O)N', 'c1nc2c(=O)[nH]c(nc2n1[C@H]3[C@@H]([C@@H]([C@H](O3)COP(=O)(O)OP(=O)(O)O[C@@H]4[C@H]([C@H]([C@@H]([C@H](O4)CO)O)O)O)O)O)N', 'c1nc2c(=O)[nH]c(nc2n1[C@H]3[C@@H]([C@@H]([C@H](O3)COP(=O)(O)OP(=O)(O)O[C@@H]4[C@H]([C@H]([C@@H]([C@H](O4)CO)O)O)O)O)O)N', 'c1nc2c(=O)[nH]c(nc2n1[C@H]3[C@@H]([C@@H]([C@H](O3)COP(=O)(O)OP(=O)(O)O[C@@H]4[C@H]([C@H]([C@@H]([C@H](O4)CO)O)O)O)O)O)N', 'c1nc2c(=O)[nH]c(nc2n1[C@H]3[C@@H]([C@@H]([C@H](O3)COP(=O)(O)OP(=O)(O)O[C@@H]4[C@H]([C@H]([C@@H]([C@H](O4)CO)O)O)O)O)O)N', 'c1nc2c(=O)[nH]c(nc2n1[C@H]3[C@@H]([C@@H]([C@H](O3)COP(=O)(O)OP(=O)(O)O[C@@H]4[C@H]([C@H]([C@@H]([C@H](O4)CO)O)O)O)O)O)N', 'c1nc2c(=O)[nH]c(nc2n1[C@H]3[C@@H]([C@@H]([C@H](O3)COP(=O)(O)OP(=O)(O)O[C@@H]4[C@H]([C@H]([C@@H]([C@H](O4)CO)O)O)O)O)O)N', 'c1nc2c(=O)[nH]c(nc2n1[C@H]3[C@@H]([C@@H]([C@H](O3)COP(=O)(O)OP(=O)(O)O[C@@H]4[C@H]([C@H]([C@@H]([C@H](O4)CO)O)O)O)O)O)N', 'c1nc2c(=O)[nH]c(nc2n1[C@H]3[C@@H]([C@@H]([C@H](O3)COP(=O)(O)OP(=O)(O)O[C@@H]4[C@H]([C@H]([C@@H]([C@H](O4)CO)O)O)O)O)O)N', 'c1nc2c(=O)[nH]c(nc2n1[C@H]3[C@@H]([C@@H]([C@H](O3)COP(=O)(O)OP(=O)(O)O[C@@H]4[C@H]([C@H]([C@@H]([C@H](O4)CO)O)O)O)O)O)N', 'c1nc2c(=O)[nH]c(nc2n1[C@H]3[C@@H]([C@@H]([C@H](O3)COP(=O)(O)OP(=O)(O)O[C@@H]4[C@H]([C@H]([C@@H]([C@H](O4)CO)O)O)O)O)O)N', 'c1nc2c(=O)[nH]c(nc2n1[C@H]3[C@@H]([C@@H]([C@H](O3)COP(=O)(O)OP(=O)(O)O[C@@H]4[C@H]([C@H]([C@@H]([C@H](O4)CO)O)O)O)O)O)N', 'C1=CC(=C(C=C1[N+](=O)[O-])[N+](=O)[O-])NCCN', 'C1=CC(=C(C=C1[N+](=O)[O-])[N+](=O)[O-])NCCN', 'C[C@@H](C(=O)N[C@@H](C)C(=O)N1CCC[C@H]1C(=O)N[C@@H](Cc2ccccc2)C(=O)Nc3ccc(cc3)[N+](=O)[O-])NC(=O)CCC(=O)O', 'C[C@@H](C(=O)N[C@@H](C)C(=O)N1CCC[C@H]1C(=O)N[C@@H](Cc2ccccc2)C(=O)Nc3ccc(cc3)[N+](=O)[O-])NC(=O)CCC(=O)O', 'C[C@@H](C(=O)N[C@@H](C)C(=O)N1CCC[C@H]1C(=O)N[C@@H](Cc2ccccc2)C(=O)Nc3ccc(cc3)[N+](=O)[O-])NC(=O)CCC(=O)O', 'C[C@@H](C(=O)N[C@@H](C)C(=O)N1CCC[C@H]1C(=O)N[C@@H](Cc2ccccc2)C(=O)Nc3ccc(cc3)[N+](=O)[O-])NC(=O)CCC(=O)O', 'C[C@@H](C(=O)N[C@@H](C)C(=O)N1CCC[C@H]1C(=O)N[C@@H](Cc2ccccc2)C(=O)Nc3ccc(cc3)[N+](=O)[O-])NC(=O)CCC(=O)O', 'C[C@@H](C(=O)N[C@@H](C)C(=O)N1CCC[C@H]1C(=O)N[C@@H](Cc2ccccc2)C(=O)Nc3ccc(cc3)[N+](=O)[O-])NC(=O)CCC(=O)O', 'C[C@@H](C(=O)N[C@@H](C)C(=O)N1CCC[C@H]1C(=O)N[C@@H](Cc2ccccc2)C(=O)Nc3ccc(cc3)[N+](=O)[O-])NC(=O)CCC(=O)O', 'C[C@@H](C(=O)N[C@@H](C)C(=O)N1CCC[C@H]1C(=O)N[C@@H](Cc2ccccc2)C(=O)Nc3ccc(cc3)[N+](=O)[O-])NC(=O)CCC(=O)O', 'C[C@@H](C(=O)N[C@@H](C)C(=O)N1CCC[C@H]1C(=O)N[C@@H](Cc2ccccc2)C(=O)Nc3ccc(cc3)[N+](=O)[O-])NC(=O)CCC(=O)O', nan, '[H]C34(C(NC(=O)Cc1cccs1)C(=O)N4(C(C(=O)O)=C(C[n+]2ccccc2)CS3))', '[H]C34(C(NC(=O)C(=NOC(C)(C)C(O)=O)c1csc(N)n1)C(=O)N4(C(C(=O)[O-])=C(C[n+]2ccccc2)CS3))', '[H]C34(C(NC(=O)C(=NOC(C)(C)C(O)=O)c1csc(N)n1)C(=O)N4(C(C(=O)[O-])=C(C[n+]2ccccc2)CS3))', '[H]C34(C(NC(=O)C(=NOC(C)(C)C(O)=O)c1csc(N)n1)C(=O)N4(C(C(=O)[O-])=C(C[n+]2ccccc2)CS3))', '[H]C34(C(NC(=O)C(=NOC(C)(C)C(O)=O)c1csc(N)n1)C(=O)N4(C(C(=O)[O-])=C(C[n+]2ccccc2)CS3))', '[H]C34(C(NC(=O)C(=NOC(C)(C)C(O)=O)c1csc(N)n1)C(=O)N4(C(C(=O)[O-])=C(C[n+]2ccccc2)CS3))', '[H]C34(C(NC(=O)C(=NOC(C)(C)C(O)=O)c1csc(N)n1)C(=O)N4(C(C(=O)[O-])=C(C[n+]2ccccc2)CS3))', 'CC1=CC(=O)OC2=C1C=CC(=C2)OC3[C@@H]([C@H]([C@@H]([C@H](O3)CO)O)O)O', 'CC1=CC(=O)OC2=C1C=CC(=C2)OC3[C@@H]([C@H]([C@@H]([C@H](O3)CO)O)O)O', nan, nan, nan, nan, nan, 'CC1=CC(=O)OC2=C1C=CC(=C2)OC3[C@@H]([C@H]([C@@H]([C@H](O3)CO)O)O)O', 'CC1=CC(=O)OC2=C1C=CC(=C2)OC3[C@@H]([C@H]([C@@H]([C@H](O3)CO)O)O)O', 'CC1=CC(=O)OC2=C1C=CC(=C2)OC3[C@@H]([C@H]([C@@H]([C@H](O3)CO)O)O)O', 'Nc6ncnc1c6(ncn1C5OC(COP(O)(=O)OP(O)(=O)OP(O)(=O)OCC2OC(C(O)C2(O))n4cnc3c(N)ncnc34)C(O)C5(O))', 'c1cc(sc1)CC(=O)N[C@H]2[C@@H]3N(C2=O)C(=C(CS3)/C=C/c4ccc(cc4[N+](=O)[O-])[N+](=O)[O-])C(=O)O', 'c1cc(sc1)CC(=O)N[C@H]2[C@@H]3N(C2=O)C(=C(CS3)/C=C/c4ccc(cc4[N+](=O)[O-])[N+](=O)[O-])C(=O)O', '[H]C2(C(C)O)(C(=O)N1C(C(=O)[O-])=C(C(C)C12([H]))SC3Cn4cnc[n+]4(C3))', 'c1cc(sc1)CC(=O)N[C@H]2[C@@H]3N(C2=O)C(=C(CS3)/C=C/c4ccc(cc4[N+](=O)[O-])[N+](=O)[O-])C(=O)O', 'c1cc(sc1)CC(=O)N[C@H]2[C@@H]3N(C2=O)C(=C(CS3)/C=C/c4ccc(cc4[N+](=O)[O-])[N+](=O)[O-])C(=O)O', nan, 'NC=1C=CN(C(=O)N=1)C3OC(CO)C2OP(O)(=O)OC23', nan, '[H]C23(C(NC(=O)Cc1cccs1)C(=O)N3(C(C(O)=O)=C(COC(C)=O)CS2))', '[H]C23(C(NC(=O)Cc1cccs1)C(=O)N3(C(C(O)=O)=C(COC(C)=O)CS2))', nan, '[H]C34(C(NC(=O)C(=NOC(C)(C)C(O)=O)c1csc(N)n1)C(=O)N4(C(C(=O)[O-])=C(C[n+]2ccccc2)CS3))', '[H]C34(C(NC(=O)C(=NOC(C)(C)C(O)=O)c1csc(N)n1)C(=O)N4(C(C(=O)[O-])=C(C[n+]2ccccc2)CS3))', nan, 'Nc3ncnc1c3(ncn1C2OC(COP(O)(=O)OP(O)(=O)OP(O)(O)=O)C(O)C2(O))', 'Nc3ncnc1c3(ncn1C2OC(COP(O)(=O)OP(O)(=O)OP(O)(O)=O)C(O)C2(O))', 'Nc3ncnc1c3(ncn1C2OC(COP(O)(=O)OP(O)(=O)OP(O)(O)=O)C(O)C2(O))', nan, nan, nan, nan, nan, nan, nan, nan, nan, nan, 'C1(=C(C(=CC2=C1OC(C=C2C)=O)F)OP(O)(O)=O)F', 'C1(=C(C(=CC2=C1OC(C=C2C)=O)F)OP(O)(O)=O)F', 'C1(=C(C(=CC2=C1OC(C=C2C)=O)F)OP(O)(O)=O)F', nan, 'Nc3ncnc1c3(ncn1C2OC(COP(O)(=O)OP(O)(=O)OP(O)(O)=O)C(O)C2(O))', 'Nc3ncnc1c3(ncn1C2OC(COP(O)(=O)OP(O)(=O)OP(O)(O)=O)C(O)C2(O))', 'Nc3ncnc1c3(ncn1C2OC(COP(O)(=O)OP(O)(=O)OP(O)(O)=O)C(O)C2(O))', 'Nc3ncnc1c3(ncn1C2OC(COP(O)(=O)OP(O)(=O)OP(O)(O)=O)C(O)C2(O))', 'CC(O)C(=O)SCC(NC(=O)CCC(N)C(O)=O)C(=O)NCC(O)=O', nan, nan, nan, nan, nan, nan, nan, nan, nan, 'OCC3OC(OC1C(O)C(O)C(OC1(CO))OC2C(O)C(O)C(O)OC2(CO))C(O)C(O)C3(O)', 'OCC3OC(OC1C(O)C(O)C(OC1(CO))OC2C(O)C(O)C(O)OC2(CO))C(O)C(O)C3(O)', nan, nan, nan, nan, nan, nan, nan, nan, nan, nan, nan, nan, nan, nan, nan, nan, 'OCC2OC(OCC1OC(O)C(O)C(O)C1(O))C(O)C(O)C2(O)', nan, nan, 'COc1ccc3c(c1)OC(OC2OC(CO)C(O)C(O)C2(O))C(=O)N3(O)', 'COc1ccc3c(c1)OC(OC2OC(CO)C(O)C(O)C2(O))C(=O)N3(O)', 'COc1ccc3c(c1)OC(OC2OC(CO)C(O)C(O)C2(O))C(=O)N3(O)', 'COc1ccc3c(c1)OC(OC2OC(CO)C(O)C(O)C2(O))C(=O)N3(O)', nan, nan, nan, 'C[C@@H]1[C@@H]([C@@H]([C@H]([C@@H](O1)OC2=CC=C(C=C2)[N+](=O)[O-])O)O)O', 'C1[C@@H]([C@@H]([C@H]([C@@H](O1)OC2=CC=C(C=C2)[N+](=O)[O-])O)O)O', nan, nan, nan, nan, nan, nan, nan, nan, nan, nan, nan]\n"
     ]
    }
   ],
   "source": [
    "print(list(df['PDB ID']))\n",
    "print(list(df['Reaction Substrate ']))\n",
    "print(list(df['SMILES of Substrate']))\n",
    "\n",
    "all_smiles = zip(list(df['PDB ID']),list(df['Reaction Substrate ']), list(df['SMILES of Substrate']))\n",
    "unique_smiles = set(all_smiles)"
   ]
  },
  {
   "cell_type": "code",
   "execution_count": 18,
   "metadata": {},
   "outputs": [],
   "source": [
    "outfile  = \"substrates.txt\"\n",
    "#PDB_id = list(df['PDB ID'])\n",
    "#PDB_id = set(PDB_id)\n",
    "with open(outfile, 'w+') as f:\n",
    "    for line in unique_smiles:\n",
    "        line = [str(x) for x in line]\n",
    "        f.write('\\t'.join(line) + \"\\n\")"
   ]
  },
  {
   "cell_type": "code",
   "execution_count": 14,
   "metadata": {},
   "outputs": [],
   "source": [
    "outfile  = \"SMILES.txt\"\n",
    "smiles = list(df['SMILES of Substrate'])\n",
    "SMILES = set(smiles)\n",
    "with open(outfile, 'w+') as f:\n",
    "    for line in SMILES:\n",
    "        f.write(str(line) + \"\\n\")"
   ]
  },
  {
   "cell_type": "code",
   "execution_count": 16,
   "metadata": {},
   "outputs": [
    {
     "ename": "ModuleNotFoundError",
     "evalue": "No module named 'pybel'",
     "output_type": "error",
     "traceback": [
      "\u001b[0;31m---------------------------------------------------------------------------\u001b[0m",
      "\u001b[0;31mModuleNotFoundError\u001b[0m                       Traceback (most recent call last)",
      "Cell \u001b[0;32mIn[16], line 1\u001b[0m\n\u001b[0;32m----> 1\u001b[0m \u001b[38;5;28;01mimport\u001b[39;00m \u001b[38;5;21;01mpybel\u001b[39;00m\n",
      "\u001b[0;31mModuleNotFoundError\u001b[0m: No module named 'pybel'"
     ]
    }
   ],
   "source": [
    "import pybel"
   ]
  }
 ],
 "metadata": {
  "kernelspec": {
   "display_name": "test",
   "language": "python",
   "name": "python3"
  },
  "language_info": {
   "codemirror_mode": {
    "name": "ipython",
    "version": 3
   },
   "file_extension": ".py",
   "mimetype": "text/x-python",
   "name": "python",
   "nbconvert_exporter": "python",
   "pygments_lexer": "ipython3",
   "version": "3.12.5"
  }
 },
 "nbformat": 4,
 "nbformat_minor": 2
}
