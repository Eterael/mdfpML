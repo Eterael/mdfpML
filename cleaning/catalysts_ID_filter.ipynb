{
 "cells": [
  {
   "cell_type": "code",
   "execution_count": 5,
   "metadata": {},
   "outputs": [],
   "source": [
    "import pandas as pd"
   ]
  },
  {
   "cell_type": "code",
   "execution_count": 6,
   "metadata": {},
   "outputs": [],
   "source": [
    "infile = \"catalysts-11-00286-s001.csv\"\n",
    "\n",
    "try:\n",
    "    df = pd.read_csv(infile, encoding = 'utf-8')\n",
    "except:\n",
    "    df = pd.read_csv(infile, encoding = 'latin1')"
   ]
  },
  {
   "cell_type": "code",
   "execution_count": 8,
   "metadata": {},
   "outputs": [],
   "source": [
    "df.to_excel('catalyst.xlsx', index=False)"
   ]
  },
  {
   "cell_type": "code",
   "execution_count": 7,
   "metadata": {},
   "outputs": [
    {
     "name": "stdout",
     "output_type": "stream",
     "text": [
      "Index(['Enzyme Name', 'UniprotID', 'ECNumber', 'Organism', 'PDB ID',\n",
      "       'Chain ID', 'Mutated Site', 'Reaction', 'Reaction Substrate ',\n",
      "       'SMILES of Substrate', 'Product', 'Temperature(¡ãC)', 'pH',\n",
      "       'Catalytic Efficicnecy Change', 'PubMedID'],\n",
      "      dtype='object')\n"
     ]
    }
   ],
   "source": [
    "print(df.columns)"
   ]
  },
  {
   "cell_type": "code",
   "execution_count": 9,
   "metadata": {},
   "outputs": [
    {
     "name": "stdout",
     "output_type": "stream",
     "text": [
      "['1MJ5', '2D73', '2D73', '3IFA', '1SWW', '1SWW', '1SWW', '1SWW', '1SWW', '1SWW', '1A59', '1A59', '1A59', '1A59', '1A59', '3DYN', '3DYN', '3TG0', '3TG0', '3TG0', '3TG0', '3TG0', '3TG0', '3TG0', '3TG0', '1EYK', '1EYK', '1EYK', '1EYK', '1EYK', '1FBH', '1DP0', '1JYV', '1JYW', '1JYV', '1JYW', '1JYV', '1JYW', '1JYW', '1JYV', '1DP0', '2ST1', '2ST1', '1B12', '1B12', '1B12', '1B12', '1B12', '1B12', '1B12', '1B12', '1B12', '1B12', '1B12', '1B12', '2BLS', '1B9V', '1B9V', '1B9V', '1B9V', '1B9V', '1B9V', '1BC2', '1BC2', '1BC2', '1BC2', '1BC2', '1BC2', '1HNY', '1XX2', '1XX2', '1XX2', '1XX2', '1PNK', '1PNK', '1PNK', '1GM7', '1RLA', '1RLA', '1RLA', '1RLA', '1RLA', '1RLA', '1FTA', '1HZY', '1HZY', '1HZY', '1HZY', '1HZY', '1HZY', '1HZY', '1FUG', '1FUG', '1FUG', '1FUG', '2G2U', '2G2U', '2G2U', '2G2U', '1MAT', '1QJV', '1QJV', '1QJV', '1QJV', '1QJV', '1PHR', '1PHR', '1PHR', '1PHR', '1PHR', '1PHR', '2UXY', '2UXY', '2A9G', '2A9G', '2A9G', '2A9G', '2A9G', '1YTS', '1YTS', '1YTS', '1YTS', '1YTS', '1YTS', '1YTS', '1YTS', '1YTS', '1YTS', '1YTS', '1G68', '2HA5', '2HA5', '2HA5', '2HA5', '2HA5', '2HA5', '2HA5', '2HA5', '2HA5', '2HA5', '4PQE', '4PQE', '4PQE', '4PQE', '4PQE', '4PQE', '4PQE', '4PQE', '4PQE', '4PQE', '4PQE', '4PQE', '4KRX', '4KRX', '4KRX', '4KRX', '4KRX', '4KRX', '4KRX', '1BIF', '1BIF', '1BIF', '1BIF', '1BIF', '1ZNB', '1ZNB', '1ZNB', '1ZNB', '1ZNB', '1ZNB', '1X8G', '1X8G', '1X8G', '1V04', '1V04', '1PFQ', '5W1B', '5W1B', '5W1B', '3SZA', '2GT4', '2GT4', '2GT4', '2GT4', '1RYA', '2GT4', '2GT4', '2GT4', '2GT4', '2GT4', '2GT4', '2GT4', '2GT4', '2GT4', '2GT4', '2GT4', '2GT4', '2GT4', '3P7L', '3P7L', '5GL8', '5GL8', '5GL8', '5GL8', '5GL8', '5GL8', '5GL8', '5GL8', '5GL8', '1UHV', '1E25', '1E25', '1E25', '1E25', '1E25', '1E25', '1E25', '1HXJ', '1HXJ', '1HXJ', '1HXJ', '1HXJ', '1HXJ', '1HXJ', '1HXJ', '1HXJ', '1HXJ', '4FIT', '1SML', '1SML', '1SML', '1SML', '1SML', '1SML', '6ETK', '1BTL', '1BTL', '1BTL', '1BTL', '1BTL', '1BTL', '1BTL', '5FC1', '5FC1', '5FC1', '1UV4', '1UV4', '1UV4', '1UV4', '5XW4', '5XW4', '5XW4', '5XW4', '5XW4', '5XW4', '5XW4', '5XW4', '5XW4', '2DEA', '5Z3G', '5Z3G', '5Z3G', '5Z3G', '1QH3', '2E3Z', '2E3Z', '2E3Z', '2E3Z', '2E3Z', '1Z5G', '1Z5G', '2RGL', '2RGL', '2RGL', '2RGL', '3A24', '3A24', '5A64 ', '5A64 ', '5A64 ', '5A64 ', '5A64 ', '5A64 ', '5A64 ', '5A64 ', '5A64 ', '1O8U', '1O8U', '1O8U', '1O8U', '1O8U', '2ZIC', '3AIU', '3AIU', '3AIV', '3AIV', '3AIV', '3AIV', '3AIU', '3AIU', '3AIU', '2JFE', '2JFE', '2JFE', '2JFE', '2JFE', '3F5O', '3F5O', '3F5O', '3F5O', '3F5O', '3F5O', '3F5O', '3F5O']\n",
      "['1,2-Dibromoethane', 'p-Nitrophenyl-alpha-D-glucoside', 'p-Nitrophenyl-alpha-D-glucoside', 'D-Fructose 1,6-bisphosphate', 'Phosphonoacetaldehyde', 'Phosphonoacetaldehyde', 'Phosphonoacetaldehyde', 'Phosphonoacetaldehyde', '2-Phosphonoacetaldehyde', '2-Phosphonoacetaldehyde', 'Acetyl-CoA', 'Acetyl-CoA', 'Propanoyl-CoA', 'Oxaloacetate', 'Oxaloacetate', \"3',5'-Cyclic AMP\", \"3',5'-Cyclic AMP\", '4-Nitrophenyl phosphate', '4-Nitrophenyl phosphate', '4-Nitrophenyl phosphate', '4-Nitrophenyl phosphate', '4-Nitrophenyl phosphate', '4-Nitrophenyl phosphate', '4-Nitrophenyl phosphate', '4-Nitrophenyl phosphate', 'D-Fructose 1,6-bisphosphate', 'D-Fructose 1,6-bisphosphate', 'D-Fructose 1,6-bisphosphate', 'D-Fructose 1,6-bisphosphate', 'D-Fructose 1,6-bisphosphate', 'D-Fructose 1,6-bisphosphate', '4-Nitrophenyl-alpha-L-arabinopyranoside', 'o-Nitrophenyl-beta-D-galactopyranoside', '4-Nitrophenyl-beta-D-galactopyranoside', '2-Nitrophenyl-beta-D-galactopyranoside', '4-Nitrophenyl-beta-D-galactopyranoside', '2-Nitrophenyl-beta-D-galactopyranoside', '4-Nitrophenyl-beta-D-galactopyranoside', '4-Nitrophenyl-beta-D-galactopyranoside', 'o-Nitrophenyl-beta-D-galactopyranoside', '3,4-Dinitrophenyl-beta-D-galactopyranoside', 'Succinyl-Ala-Ala-Pro-Phe-p-nitroanilide', 'Succinyl-Ala-Ala-Pro-Phe-p-nitroanilide', 'Peptide', 'Peptide', 'Peptide', 'Peptide', 'Peptide', 'Peptide', 'Peptide', 'Peptide', 'Peptide', 'Peptide', 'Peptide', 'Peptide', 'Penicillin G', \"2'-(4-Methylumbelliferyl)-alpha-D-N-acetylneuraminic acid\", \"2'-(4-Methylumbelliferyl)-alpha-D-N-acetylneuraminic acid\", \"2'-(4-Methylumbelliferyl)-alpha-D-N-acetylneuraminic acid\", \"2'-(4-Methylumbelliferyl)-alpha-D-N-acetylneuraminic acid\", \"2'-(4-Methylumbelliferyl)-alpha-D-N-acetylneuraminic acid\", \"2'-(4-Methylumbelliferyl)-alpha-D-N-acetylneuraminic acid\", 'Nitrocefin', 'Penicillin G', 'Penicillin G', 'Penicillin G', 'Penicillin G', 'Nitrocefin', 'Maltotriose', 'Ceftazidime', 'Ceftazidime', 'Ceftazidime', 'Ceftazidime', '2-Nitro-5-[(Phenylacetyl)amino]benzoic acid', '2-Nitro-5-[(Phenylacetyl)amino]benzoic acid', '2-Phenylacetamide', 'Penicillin G', 'L-Arginine', 'L-Arginine', 'L-Arginine', 'L-Arginine', 'L-Arginine', 'L-Arginine', 'D-Fructose 1,6-bisphosphate', 'Paraoxon', 'Paraoxon', 'Paraoxon', 'Paraoxon', 'Paraoxon', 'Paraoxon', 'Paraoxon', 'Triphosphate', 'Triphosphate', 'Triphosphate', 'Triphosphate', 'Nitrocefin', 'Nitrocefin', 'Ampicillin', 'Cephalothin', 'Met-Gly-Met-Met', 'Pectin', 'Pectin', 'Pectin', 'Pectin', 'Pectin', '4-Nitrophenyl phosphate', '4-Nitrophenyl phosphate', 'Phosphotyrosine', 'Phosphotyrosine', 'Phosphotyrosine', 'Phosphotyrosine', 'Acetamide', 'Acetamide', 'L-Arginine', 'L-Arginine', 'L-Arginine', 'L-Arginine', 'L-Arginine', '4-Nitrophenyl phosphate', '4-Nitrophenyl phosphate', '4-Nitrophenyl phosphate', '4-Nitrophenyl phosphate', '4-Nitrophenyl phosphate', '4-Nitrophenyl phosphate', '4-Nitrophenyl phosphate', '4-Nitrophenyl phosphate', '4-Nitrophenyl phosphate', '4-Nitrophenyl phosphate', '4-Nitrophenyl phosphate', 'Penicillin G', 'Acetylthiocholine', 'Acetylthiocholine', 'Acetylthiocholine', 'Acetylthiocholine', 'Acetylthiocholine', 'Acetylthiocholine', 'Acetylthiocholine', 'Acetylthiocholine', 'Acetylthiocholine', 'Acetylthiocholine', 'Acetylthiocholine', 'Acetylthiocholine', 'Acetylthiocholine', 'Acetylthiocholine', 'Acetylthiocholine', 'Acetylthiocholine', 'Acetylthiocholine', 'Acetylthiocholine', '4-Nitrophenyl acetate', '4-Nitrophenyl acetate', 'Propionylthiocholine', 'Propionylthiocholine', 'p-Nitrophenyl butyrate', 'p-Nitrophenyl butyrate', 'p-Nitrophenyl butyrate', 'p-Nitrophenyl butyrate', 'p-Nitrophenyl butyrate', 'p-Nitrophenyl butyrate', 'p-Nitrophenyl butyrate', 'D-Fructose 2,6-bisphosphate', 'D-Fructose 2,6-bisphosphate', 'D-Fructose 2,6-bisphosphate', 'D-Fructose 2,6-bisphosphate', 'D-Fructose 2,6-bisphosphate', 'Penicillin G', 'Penicillin G', 'Penicillin G', 'Penicillin G', 'Penicillin G', 'Cephaloridine', 'Nitrocefin', 'Nitrocefin', 'Nitrocefin', 'Paraoxon', 'Paraoxon', 'Gly-Pro-4-Nitroanilide', 'S-Ethyl-L-cysteine', 'S-Ethyl-L-cysteine', 'S-Ethyl-L-cysteine', '4-Nitrophenyl acetate', 'GDP-alpha-D-mannose', 'GDP-alpha-D-mannose', 'GDP-alpha-D-mannose', 'GDP-alpha-D-mannose', 'GDP-alpha-D-Glucose', 'GDP-alpha-D-mannose', 'GDP-alpha-D-mannose', 'GDP-alpha-D-mannose', 'GDP-alpha-D-mannose', 'GDP-alpha-D-mannose', 'GDP-alpha-D-mannose', 'GDP-alpha-D-mannose', 'GDP-alpha-D-mannose', 'GDP-alpha-D-mannose', 'GDP-alpha-D-mannose', 'GDP-alpha-D-mannose', 'GDP-alpha-D-mannose', 'GDP-alpha-D-mannose', '2-Aminobenzoyl-GGFLRKHGQ-N-(2,4-dinitrophenyl)ethylenediamine', '2-Aminobenzoyl-GGFLRKHGQ-N-(2,4-dinitrophenyl)ethylenediamine', 'Succinyl-Ala-Ala-Pro-Phe-p-nitroanilide', 'Succinyl-Ala-Ala-Pro-Phe-p-nitroanilide', 'Succinyl-Ala-Ala-Pro-Phe-p-nitroanilide', 'Succinyl-Ala-Ala-Pro-Phe-p-nitroanilide', 'Succinyl-Ala-Ala-Pro-Phe-p-nitroanilide', 'Succinyl-Ala-Ala-Pro-Phe-p-nitroanilide', 'Succinyl-Ala-Ala-Pro-Phe-p-nitroanilide', 'Succinyl-Ala-Ala-Pro-Phe-p-nitroanilide', 'Succinyl-Ala-Ala-Pro-Phe-p-nitroanilide', 'p-Nitrophenyl-beta-D-xylopyranoside', 'Cephaloridine', 'Ceftazidime', 'Ceftazidime', 'Ceftazidime', 'Ceftazidime', 'Ceftazidime', 'Ceftazidime', '4-Methylumbelliferyl-beta-D-glucoside', '4-Methylumbelliferyl-beta-D-glucoside', 'p-Nitrophenyl-beta-D-glucoside', 'p-Nitrophenyl-beta-D-glucoside', 'p-Nitrophenyl-beta-D-glucoside', 'p-Nitrophenyl-beta-D-glucoside', 'p-Nitrophenyl-beta-D-glucoside', '4-Methylumbelliferyl-beta-D-glucoside', '4-Methylumbelliferyl-beta-D-glucoside', '4-Methylumbelliferyl-beta-D-glucoside', \"P1,P3-Bis(5'-adenosyl)-triphosphate\", 'Nitrocefin', 'Nitrocefin', 'Biapenem', 'Nitrocefin', 'Nitrocefin', 'Cefoxitin', \"2',3'-Cyclic CMP\", 'Ampicillin', 'Cephalothin', 'Cephalothin', 'Penicillin G', 'Cefotaxime', 'Cefotaxime', 'Benzylpenicillin', 'ATP', 'ATP', 'ATP', 'Arabinotetraose', 'Arabinotetraose', 'Arabinotetraose', 'Arabinotetraose', '4-Nitrophenyl phosphate', '4-Nitrophenyl phosphate', '4-Nitrophenyl phosphate', '4-Nitrophenyl phosphate', '4-Nitrophenyl phosphate', '4-Nitrophenyl phosphate', '6,8-Difluoro-4-methylumbelliferyl phosphate', '6,8-Difluoro-4-methylumbelliferyl phosphate', '6,8-Difluoro-4-methylumbelliferyl phosphate', 'L-Leucine-p-nitroanilide', 'ATP', 'ATP', 'ATP', 'ATP', '(R)-S-Lactoylglutathione', 'Cellobiose', 'Cellobiose', 'Cellobiose', 'Cellobiose', 'Cellobiose', '4-Nitrophenyl phosphate', '4-Nitrophenyl phosphate', 'Cellobiose', 'Cellobiose', 'Cellotriose', 'Cellotriose', 'p-Nitrophenyl-alpha-D-galactoside', 'p-Nitrophenyl-alpha-D-galactoside', 'Thiamine triphosphate', 'Thiamine triphosphate', 'Thiamine triphosphate', 'Thiamine triphosphate', 'Thiamine triphosphate', 'Thiamine triphosphate', 'Thiamine triphosphate', 'Thiamine triphosphate', 'Thiamine triphosphate', '6-Oxocamphor', '6-Oxocamphor', '6-Oxocamphor', '6-Oxocamphor', '6-Oxocamphor', 'Isomaltose', 'DIBOA glucoside', 'DIBOA glucoside', 'DIMBOA glucoside', 'DIMBOA glucoside', 'DIMBOA glucoside', 'DIMBOA glucoside', 'p-Nitrophenyl-beta-D-glucoside', 'p-Nitrophenyl-beta-D-glucoside', 'p-Nitrophenyl-beta-D-glucoside', 'p-Nitrophenyl-beta-D-fucopyranoside', '4-Nitrophenyl-alpha-L-arabinopyranoside', 'p-Nitrophenyl-beta-D-glucoside', '4-Nitrophenyl-beta-D-galactopyranoside', '4-Nitrophenyl-beta-D-galactopyranoside', '3-Hydroxyphenylacetyl-CoA', '3-Hydroxyphenylacetyl-CoA', '3-Hydroxyphenylacetyl-CoA', '3-Hydroxyphenylacetyl-CoA', '3-Hydroxyphenylacetyl-CoA', '3-Hydroxyphenylacetyl-CoA', '3-Hydroxyphenylacetyl-CoA', '3-Hydroxyphenylacetyl-CoA']\n",
      "['C(CBr)Br', 'C1=CC(=CC=C1[N+](=O)[O-])OC2C(C(C(C(O2)CO)O)O)O', 'C1=CC(=CC=C1[N+](=O)[O-])OC2C(C(C(C(O2)CO)O)O)O', nan, '[H]C(=O)CP(O)(O)=O', '[H]C(=O)CP(O)(O)=O', '[H]C(=O)CP(O)(O)=O', '[H]C(=O)CP(O)(O)=O', '[H]C(=O)CP(O)(O)=O', '[H]C(=O)CP(O)(O)=O', nan, nan, nan, 'OC(=O)CC(=O)C(O)=O', 'OC(=O)CC(=O)C(O)=O', nan, nan, nan, nan, nan, nan, nan, nan, nan, nan, 'OC1C(COP(O)(O)=O)OC(O)(COP(O)(O)=O)C1(O)', 'OC1C(COP(O)(O)=O)OC(O)(COP(O)(O)=O)C1(O)', 'OC1C(COP(O)(O)=O)OC(O)(COP(O)(O)=O)C1(O)', 'OC1C(COP(O)(O)=O)OC(O)(COP(O)(O)=O)C1(O)', 'OC1C(COP(O)(O)=O)OC(O)(COP(O)(O)=O)C1(O)', 'OC1C(COP(O)(O)=O)OC(O)(COP(O)(O)=O)C1(O)', 'C1[C@@H]([C@@H]([C@H]([C@@H](O1)OC2=CC=C(C=C2)[N+](=O)[O-])O)O)O', nan, nan, nan, nan, nan, nan, nan, nan, 'c1cc(c(cc1O[C@@H]2[C@H]([C@H]([C@H](O[C@H]2[O-])CO)O)O)[N+](=O)[O-])[N+](=O)[O-]', 'C[C@@H](C(=O)N[C@@H](C)C(=O)N1CCC[C@H]1C(=O)N[C@@H](Cc2ccccc2)C(=O)Nc3ccc(cc3)[N+](=O)[O-])NC(=O)CCC(=O)O', 'C[C@@H](C(=O)N[C@@H](C)C(=O)N1CCC[C@H]1C(=O)N[C@@H](Cc2ccccc2)C(=O)Nc3ccc(cc3)[N+](=O)[O-])NC(=O)CCC(=O)O', '[*]C(N)C(=O)NC([*])C(O)=O', '[*]C(N)C(=O)NC([*])C(O)=O', '[*]C(N)C(=O)NC([*])C(O)=O', '[*]C(N)C(=O)NC([*])C(O)=O', '[*]C(N)C(=O)NC([*])C(O)=O', '[*]C(N)C(=O)NC([*])C(O)=O', '[*]C(N)C(=O)NC([*])C(O)=O', '[*]C(N)C(=O)NC([*])C(O)=O', '[*]C(N)C(=O)NC([*])C(O)=O', '[*]C(N)C(=O)NC([*])C(O)=O', '[*]C(N)C(=O)NC([*])C(O)=O', '[*]C(N)C(=O)NC([*])C(O)=O', nan, nan, nan, nan, nan, nan, nan, 'c1cc(sc1)CC(=O)N[C@H]2[C@@H]3N(C2=O)C(=C(CS3)/C=C/c4ccc(cc4[N+](=O)[O-])[N+](=O)[O-])C(=O)O', nan, nan, nan, nan, 'c1cc(sc1)CC(=O)N[C@H]2[C@@H]3N(C2=O)C(=C(CS3)/C=C/c4ccc(cc4[N+](=O)[O-])[N+](=O)[O-])C(=O)O', 'OCC3OC(OC1C(O)C(O)C(OC1(CO))OC2C(O)C(O)C(O)OC2(CO))C(O)C(O)C3(O)', '[H]C34(C(NC(=O)C(=NOC(C)(C)C(O)=O)c1csc(N)n1)C(=O)N4(C(C(=O)[O-])=C(C[n+]2ccccc2)CS3))', '[H]C34(C(NC(=O)C(=NOC(C)(C)C(O)=O)c1csc(N)n1)C(=O)N4(C(C(=O)[O-])=C(C[n+]2ccccc2)CS3))', '[H]C34(C(NC(=O)C(=NOC(C)(C)C(O)=O)c1csc(N)n1)C(=O)N4(C(C(=O)[O-])=C(C[n+]2ccccc2)CS3))', '[H]C34(C(NC(=O)C(=NOC(C)(C)C(O)=O)c1csc(N)n1)C(=O)N4(C(C(=O)[O-])=C(C[n+]2ccccc2)CS3))', nan, nan, 'NC(=O)Cc1ccccc1', nan, 'NC(=N)NCCCC(N)C(O)=O', 'NC(=N)NCCCC(N)C(O)=O', 'NC(=N)NCCCC(N)C(O)=O', 'NC(=N)NCCCC(N)C(O)=O', 'NC(=N)NCCCC(N)C(O)=O', 'NC(=N)NCCCC(N)C(O)=O', nan, 'CCOP(=O)(OCC)Oc1ccc(cc1)[N+](=O)[O-]', 'CCOP(=O)(OCC)Oc1ccc(cc1)[N+](=O)[O-]', 'CCOP(=O)(OCC)Oc1ccc(cc1)[N+](=O)[O-]', 'CCOP(=O)(OCC)Oc1ccc(cc1)[N+](=O)[O-]', 'CCOP(=O)(OCC)Oc1ccc(cc1)[N+](=O)[O-]', 'CCOP(=O)(OCC)Oc1ccc(cc1)[N+](=O)[O-]', 'CCOP(=O)(OCC)Oc1ccc(cc1)[N+](=O)[O-]', nan, nan, nan, nan, 'c1cc(sc1)CC(=O)N[C@H]2[C@@H]3N(C2=O)C(=C(CS3)/C=C/c4ccc(cc4[N+](=O)[O-])[N+](=O)[O-])C(=O)O', 'c1cc(sc1)CC(=O)N[C@H]2[C@@H]3N(C2=O)C(=C(CS3)/C=C/c4ccc(cc4[N+](=O)[O-])[N+](=O)[O-])C(=O)O', nan, '[H]C23(C(NC(=O)Cc1cccs1)C(=O)N3(C(C(O)=O)=C(COC(C)=O)CS2))', nan, nan, nan, nan, nan, nan, nan, nan, 'NC(Cc1ccc(cc1)OP(O)(O)=O)C(O)=O', 'NC(Cc1ccc(cc1)OP(O)(O)=O)C(O)=O', 'NC(Cc1ccc(cc1)OP(O)(O)=O)C(O)=O', 'NC(Cc1ccc(cc1)OP(O)(O)=O)C(O)=O', nan, nan, 'NC(=N)NCCCC(N)C(O)=O', 'NC(=N)NCCCC(N)C(O)=O', 'NC(=N)NCCCC(N)C(O)=O', 'NC(=N)NCCCC(N)C(O)=O', 'NC(=N)NCCCC(N)C(O)=O', nan, nan, nan, nan, nan, nan, nan, nan, nan, nan, nan, nan, nan, nan, nan, nan, nan, nan, nan, nan, nan, nan, nan, nan, nan, nan, nan, nan, nan, nan, nan, nan, nan, nan, nan, nan, nan, nan, nan, nan, nan, nan, nan, nan, nan, nan, nan, nan, nan, nan, nan, '[H]C34(C(NC(=O)Cc1cccs1)C(=O)N4(C(C(=O)O)=C(C[n+]2ccccc2)CS3))', 'c1cc(sc1)CC(=O)N[C@H]2[C@@H]3N(C2=O)C(=C(CS3)/C=C/c4ccc(cc4[N+](=O)[O-])[N+](=O)[O-])C(=O)O', 'c1cc(sc1)CC(=O)N[C@H]2[C@@H]3N(C2=O)C(=C(CS3)/C=C/c4ccc(cc4[N+](=O)[O-])[N+](=O)[O-])C(=O)O', 'c1cc(sc1)CC(=O)N[C@H]2[C@@H]3N(C2=O)C(=C(CS3)/C=C/c4ccc(cc4[N+](=O)[O-])[N+](=O)[O-])C(=O)O', 'CCOP(=O)(OCC)Oc1ccc(cc1)[N+](=O)[O-]', 'CCOP(=O)(OCC)Oc1ccc(cc1)[N+](=O)[O-]', 'C1C[C@H](N(C1)C(=O)CNC(=O)OCC2=CC=CC=C2)C(=O)NC3=CC=C(C=C3)[N+](=O)[O-]', nan, nan, nan, nan, 'c1nc2c(=O)[nH]c(nc2n1[C@H]3[C@@H]([C@@H]([C@H](O3)COP(=O)(O)OP(=O)(O)O[C@@H]4[C@H]([C@H]([C@@H]([C@H](O4)CO)O)O)O)O)O)N', 'c1nc2c(=O)[nH]c(nc2n1[C@H]3[C@@H]([C@@H]([C@H](O3)COP(=O)(O)OP(=O)(O)O[C@@H]4[C@H]([C@H]([C@@H]([C@H](O4)CO)O)O)O)O)O)N', 'c1nc2c(=O)[nH]c(nc2n1[C@H]3[C@@H]([C@@H]([C@H](O3)COP(=O)(O)OP(=O)(O)O[C@@H]4[C@H]([C@H]([C@@H]([C@H](O4)CO)O)O)O)O)O)N', 'c1nc2c(=O)[nH]c(nc2n1[C@H]3[C@@H]([C@@H]([C@H](O3)COP(=O)(O)OP(=O)(O)O[C@@H]4[C@H]([C@H]([C@@H]([C@H](O4)CO)O)O)O)O)O)N', nan, 'c1nc2c(=O)[nH]c(nc2n1[C@H]3[C@@H]([C@@H]([C@H](O3)COP(=O)(O)OP(=O)(O)O[C@@H]4[C@H]([C@H]([C@@H]([C@H](O4)CO)O)O)O)O)O)N', 'c1nc2c(=O)[nH]c(nc2n1[C@H]3[C@@H]([C@@H]([C@H](O3)COP(=O)(O)OP(=O)(O)O[C@@H]4[C@H]([C@H]([C@@H]([C@H](O4)CO)O)O)O)O)O)N', 'c1nc2c(=O)[nH]c(nc2n1[C@H]3[C@@H]([C@@H]([C@H](O3)COP(=O)(O)OP(=O)(O)O[C@@H]4[C@H]([C@H]([C@@H]([C@H](O4)CO)O)O)O)O)O)N', 'c1nc2c(=O)[nH]c(nc2n1[C@H]3[C@@H]([C@@H]([C@H](O3)COP(=O)(O)OP(=O)(O)O[C@@H]4[C@H]([C@H]([C@@H]([C@H](O4)CO)O)O)O)O)O)N', 'c1nc2c(=O)[nH]c(nc2n1[C@H]3[C@@H]([C@@H]([C@H](O3)COP(=O)(O)OP(=O)(O)O[C@@H]4[C@H]([C@H]([C@@H]([C@H](O4)CO)O)O)O)O)O)N', 'c1nc2c(=O)[nH]c(nc2n1[C@H]3[C@@H]([C@@H]([C@H](O3)COP(=O)(O)OP(=O)(O)O[C@@H]4[C@H]([C@H]([C@@H]([C@H](O4)CO)O)O)O)O)O)N', 'c1nc2c(=O)[nH]c(nc2n1[C@H]3[C@@H]([C@@H]([C@H](O3)COP(=O)(O)OP(=O)(O)O[C@@H]4[C@H]([C@H]([C@@H]([C@H](O4)CO)O)O)O)O)O)N', 'c1nc2c(=O)[nH]c(nc2n1[C@H]3[C@@H]([C@@H]([C@H](O3)COP(=O)(O)OP(=O)(O)O[C@@H]4[C@H]([C@H]([C@@H]([C@H](O4)CO)O)O)O)O)O)N', 'c1nc2c(=O)[nH]c(nc2n1[C@H]3[C@@H]([C@@H]([C@H](O3)COP(=O)(O)OP(=O)(O)O[C@@H]4[C@H]([C@H]([C@@H]([C@H](O4)CO)O)O)O)O)O)N', 'c1nc2c(=O)[nH]c(nc2n1[C@H]3[C@@H]([C@@H]([C@H](O3)COP(=O)(O)OP(=O)(O)O[C@@H]4[C@H]([C@H]([C@@H]([C@H](O4)CO)O)O)O)O)O)N', 'c1nc2c(=O)[nH]c(nc2n1[C@H]3[C@@H]([C@@H]([C@H](O3)COP(=O)(O)OP(=O)(O)O[C@@H]4[C@H]([C@H]([C@@H]([C@H](O4)CO)O)O)O)O)O)N', 'c1nc2c(=O)[nH]c(nc2n1[C@H]3[C@@H]([C@@H]([C@H](O3)COP(=O)(O)OP(=O)(O)O[C@@H]4[C@H]([C@H]([C@@H]([C@H](O4)CO)O)O)O)O)O)N', 'c1nc2c(=O)[nH]c(nc2n1[C@H]3[C@@H]([C@@H]([C@H](O3)COP(=O)(O)OP(=O)(O)O[C@@H]4[C@H]([C@H]([C@@H]([C@H](O4)CO)O)O)O)O)O)N', 'C1=CC(=C(C=C1[N+](=O)[O-])[N+](=O)[O-])NCCN', 'C1=CC(=C(C=C1[N+](=O)[O-])[N+](=O)[O-])NCCN', 'C[C@@H](C(=O)N[C@@H](C)C(=O)N1CCC[C@H]1C(=O)N[C@@H](Cc2ccccc2)C(=O)Nc3ccc(cc3)[N+](=O)[O-])NC(=O)CCC(=O)O', 'C[C@@H](C(=O)N[C@@H](C)C(=O)N1CCC[C@H]1C(=O)N[C@@H](Cc2ccccc2)C(=O)Nc3ccc(cc3)[N+](=O)[O-])NC(=O)CCC(=O)O', 'C[C@@H](C(=O)N[C@@H](C)C(=O)N1CCC[C@H]1C(=O)N[C@@H](Cc2ccccc2)C(=O)Nc3ccc(cc3)[N+](=O)[O-])NC(=O)CCC(=O)O', 'C[C@@H](C(=O)N[C@@H](C)C(=O)N1CCC[C@H]1C(=O)N[C@@H](Cc2ccccc2)C(=O)Nc3ccc(cc3)[N+](=O)[O-])NC(=O)CCC(=O)O', 'C[C@@H](C(=O)N[C@@H](C)C(=O)N1CCC[C@H]1C(=O)N[C@@H](Cc2ccccc2)C(=O)Nc3ccc(cc3)[N+](=O)[O-])NC(=O)CCC(=O)O', 'C[C@@H](C(=O)N[C@@H](C)C(=O)N1CCC[C@H]1C(=O)N[C@@H](Cc2ccccc2)C(=O)Nc3ccc(cc3)[N+](=O)[O-])NC(=O)CCC(=O)O', 'C[C@@H](C(=O)N[C@@H](C)C(=O)N1CCC[C@H]1C(=O)N[C@@H](Cc2ccccc2)C(=O)Nc3ccc(cc3)[N+](=O)[O-])NC(=O)CCC(=O)O', 'C[C@@H](C(=O)N[C@@H](C)C(=O)N1CCC[C@H]1C(=O)N[C@@H](Cc2ccccc2)C(=O)Nc3ccc(cc3)[N+](=O)[O-])NC(=O)CCC(=O)O', 'C[C@@H](C(=O)N[C@@H](C)C(=O)N1CCC[C@H]1C(=O)N[C@@H](Cc2ccccc2)C(=O)Nc3ccc(cc3)[N+](=O)[O-])NC(=O)CCC(=O)O', nan, '[H]C34(C(NC(=O)Cc1cccs1)C(=O)N4(C(C(=O)O)=C(C[n+]2ccccc2)CS3))', '[H]C34(C(NC(=O)C(=NOC(C)(C)C(O)=O)c1csc(N)n1)C(=O)N4(C(C(=O)[O-])=C(C[n+]2ccccc2)CS3))', '[H]C34(C(NC(=O)C(=NOC(C)(C)C(O)=O)c1csc(N)n1)C(=O)N4(C(C(=O)[O-])=C(C[n+]2ccccc2)CS3))', '[H]C34(C(NC(=O)C(=NOC(C)(C)C(O)=O)c1csc(N)n1)C(=O)N4(C(C(=O)[O-])=C(C[n+]2ccccc2)CS3))', '[H]C34(C(NC(=O)C(=NOC(C)(C)C(O)=O)c1csc(N)n1)C(=O)N4(C(C(=O)[O-])=C(C[n+]2ccccc2)CS3))', '[H]C34(C(NC(=O)C(=NOC(C)(C)C(O)=O)c1csc(N)n1)C(=O)N4(C(C(=O)[O-])=C(C[n+]2ccccc2)CS3))', '[H]C34(C(NC(=O)C(=NOC(C)(C)C(O)=O)c1csc(N)n1)C(=O)N4(C(C(=O)[O-])=C(C[n+]2ccccc2)CS3))', 'CC1=CC(=O)OC2=C1C=CC(=C2)OC3[C@@H]([C@H]([C@@H]([C@H](O3)CO)O)O)O', 'CC1=CC(=O)OC2=C1C=CC(=C2)OC3[C@@H]([C@H]([C@@H]([C@H](O3)CO)O)O)O', nan, nan, nan, nan, nan, 'CC1=CC(=O)OC2=C1C=CC(=C2)OC3[C@@H]([C@H]([C@@H]([C@H](O3)CO)O)O)O', 'CC1=CC(=O)OC2=C1C=CC(=C2)OC3[C@@H]([C@H]([C@@H]([C@H](O3)CO)O)O)O', 'CC1=CC(=O)OC2=C1C=CC(=C2)OC3[C@@H]([C@H]([C@@H]([C@H](O3)CO)O)O)O', 'Nc6ncnc1c6(ncn1C5OC(COP(O)(=O)OP(O)(=O)OP(O)(=O)OCC2OC(C(O)C2(O))n4cnc3c(N)ncnc34)C(O)C5(O))', 'c1cc(sc1)CC(=O)N[C@H]2[C@@H]3N(C2=O)C(=C(CS3)/C=C/c4ccc(cc4[N+](=O)[O-])[N+](=O)[O-])C(=O)O', 'c1cc(sc1)CC(=O)N[C@H]2[C@@H]3N(C2=O)C(=C(CS3)/C=C/c4ccc(cc4[N+](=O)[O-])[N+](=O)[O-])C(=O)O', '[H]C2(C(C)O)(C(=O)N1C(C(=O)[O-])=C(C(C)C12([H]))SC3Cn4cnc[n+]4(C3))', 'c1cc(sc1)CC(=O)N[C@H]2[C@@H]3N(C2=O)C(=C(CS3)/C=C/c4ccc(cc4[N+](=O)[O-])[N+](=O)[O-])C(=O)O', 'c1cc(sc1)CC(=O)N[C@H]2[C@@H]3N(C2=O)C(=C(CS3)/C=C/c4ccc(cc4[N+](=O)[O-])[N+](=O)[O-])C(=O)O', nan, 'NC=1C=CN(C(=O)N=1)C3OC(CO)C2OP(O)(=O)OC23', nan, '[H]C23(C(NC(=O)Cc1cccs1)C(=O)N3(C(C(O)=O)=C(COC(C)=O)CS2))', '[H]C23(C(NC(=O)Cc1cccs1)C(=O)N3(C(C(O)=O)=C(COC(C)=O)CS2))', nan, '[H]C34(C(NC(=O)C(=NOC(C)(C)C(O)=O)c1csc(N)n1)C(=O)N4(C(C(=O)[O-])=C(C[n+]2ccccc2)CS3))', '[H]C34(C(NC(=O)C(=NOC(C)(C)C(O)=O)c1csc(N)n1)C(=O)N4(C(C(=O)[O-])=C(C[n+]2ccccc2)CS3))', nan, 'Nc3ncnc1c3(ncn1C2OC(COP(O)(=O)OP(O)(=O)OP(O)(O)=O)C(O)C2(O))', 'Nc3ncnc1c3(ncn1C2OC(COP(O)(=O)OP(O)(=O)OP(O)(O)=O)C(O)C2(O))', 'Nc3ncnc1c3(ncn1C2OC(COP(O)(=O)OP(O)(=O)OP(O)(O)=O)C(O)C2(O))', nan, nan, nan, nan, nan, nan, nan, nan, nan, nan, 'C1(=C(C(=CC2=C1OC(C=C2C)=O)F)OP(O)(O)=O)F', 'C1(=C(C(=CC2=C1OC(C=C2C)=O)F)OP(O)(O)=O)F', 'C1(=C(C(=CC2=C1OC(C=C2C)=O)F)OP(O)(O)=O)F', nan, 'Nc3ncnc1c3(ncn1C2OC(COP(O)(=O)OP(O)(=O)OP(O)(O)=O)C(O)C2(O))', 'Nc3ncnc1c3(ncn1C2OC(COP(O)(=O)OP(O)(=O)OP(O)(O)=O)C(O)C2(O))', 'Nc3ncnc1c3(ncn1C2OC(COP(O)(=O)OP(O)(=O)OP(O)(O)=O)C(O)C2(O))', 'Nc3ncnc1c3(ncn1C2OC(COP(O)(=O)OP(O)(=O)OP(O)(O)=O)C(O)C2(O))', 'CC(O)C(=O)SCC(NC(=O)CCC(N)C(O)=O)C(=O)NCC(O)=O', nan, nan, nan, nan, nan, nan, nan, nan, nan, 'OCC3OC(OC1C(O)C(O)C(OC1(CO))OC2C(O)C(O)C(O)OC2(CO))C(O)C(O)C3(O)', 'OCC3OC(OC1C(O)C(O)C(OC1(CO))OC2C(O)C(O)C(O)OC2(CO))C(O)C(O)C3(O)', nan, nan, nan, nan, nan, nan, nan, nan, nan, nan, nan, nan, nan, nan, nan, nan, 'OCC2OC(OCC1OC(O)C(O)C(O)C1(O))C(O)C(O)C2(O)', nan, nan, 'COc1ccc3c(c1)OC(OC2OC(CO)C(O)C(O)C2(O))C(=O)N3(O)', 'COc1ccc3c(c1)OC(OC2OC(CO)C(O)C(O)C2(O))C(=O)N3(O)', 'COc1ccc3c(c1)OC(OC2OC(CO)C(O)C(O)C2(O))C(=O)N3(O)', 'COc1ccc3c(c1)OC(OC2OC(CO)C(O)C(O)C2(O))C(=O)N3(O)', nan, nan, nan, 'C[C@@H]1[C@@H]([C@@H]([C@H]([C@@H](O1)OC2=CC=C(C=C2)[N+](=O)[O-])O)O)O', 'C1[C@@H]([C@@H]([C@H]([C@@H](O1)OC2=CC=C(C=C2)[N+](=O)[O-])O)O)O', nan, nan, nan, nan, nan, nan, nan, nan, nan, nan, nan]\n"
     ]
    }
   ],
   "source": [
    "print(list(df['PDB ID']))\n",
    "print(list(df['Reaction Substrate ']))\n",
    "print(list(df['SMILES of Substrate']))\n",
    "\n",
    "all_smiles = zip(list(df['PDB ID']),list(df['Reaction Substrate ']), list(df['SMILES of Substrate']))\n",
    "unique_smiles = set(all_smiles)"
   ]
  },
  {
   "cell_type": "code",
   "execution_count": 10,
   "metadata": {},
   "outputs": [],
   "source": [
    "outfile  = \"substrates.txt\"\n",
    "#PDB_id = list(df['PDB ID'])\n",
    "#PDB_id = set(PDB_id)\n",
    "with open(outfile, 'w+') as f:\n",
    "    for line in unique_smiles:\n",
    "        line = [str(x) for x in line]\n",
    "        f.write('\\t'.join(line) + \"\\n\")"
   ]
  },
  {
   "cell_type": "code",
   "execution_count": 14,
   "metadata": {},
   "outputs": [],
   "source": [
    "outfile  = \"SMILES.txt\"\n",
    "smiles = list(df['SMILES of Substrate'])\n",
    "SMILES = set(smiles)\n",
    "with open(outfile, 'w+') as f:\n",
    "    for line in SMILES:\n",
    "        f.write(str(line) + \"\\n\")"
   ]
  },
  {
   "cell_type": "code",
   "execution_count": 16,
   "metadata": {},
   "outputs": [
    {
     "ename": "ModuleNotFoundError",
     "evalue": "No module named 'pybel'",
     "output_type": "error",
     "traceback": [
      "\u001b[0;31m---------------------------------------------------------------------------\u001b[0m",
      "\u001b[0;31mModuleNotFoundError\u001b[0m                       Traceback (most recent call last)",
      "Cell \u001b[0;32mIn[16], line 1\u001b[0m\n\u001b[0;32m----> 1\u001b[0m \u001b[38;5;28;01mimport\u001b[39;00m \u001b[38;5;21;01mpybel\u001b[39;00m\n",
      "\u001b[0;31mModuleNotFoundError\u001b[0m: No module named 'pybel'"
     ]
    }
   ],
   "source": [
    "import pybel"
   ]
  },
  {
   "cell_type": "code",
   "execution_count": 4,
   "metadata": {},
   "outputs": [],
   "source": [
    "infile = \"pdb_ids.txt\"\n",
    "names = []\n",
    "\n",
    "with open(infile, 'r') as f:\n",
    "    for line in f:\n",
    "        line = line.strip()\n",
    "        names.append(line)\n",
    "names = set(names)\n",
    "with open('pdb_set.txt','a+') as f:\n",
    "    for i in names:\n",
    "        f.write(i + '\\n')\n"
   ]
  },
  {
   "cell_type": "code",
   "execution_count": 13,
   "metadata": {},
   "outputs": [],
   "source": [
    "import pubchempy as pcp"
   ]
  },
  {
   "cell_type": "code",
   "execution_count": 27,
   "metadata": {},
   "outputs": [
    {
     "name": "stdout",
     "output_type": "stream",
     "text": [
      "Error fetching SMILES for D-Fructose 1,6-bisphosphate: Remote end closed connection without response\n"
     ]
    }
   ],
   "source": [
    "df = pd.read_csv('updated_substrates.txt', sep='\\t', header=None)\n",
    "df.columns = ['ID', 'Compound_Name', 'SMILES']\n",
    "\n",
    "# Loop through each row to check for 'nan' in the SMILES column\n",
    "for idx, row in df.iterrows():\n",
    "    if pd.isna(row['SMILES']):\n",
    "        compound_name = row['Compound_Name']\n",
    "        try:\n",
    "            # Fetch the SMILES using PubChemPy based on the compound name\n",
    "            compound = pcp.get_compounds(compound_name, 'name')\n",
    "            if compound:\n",
    "                # Replace 'nan' with the fetched SMILES\n",
    "                df.at[idx, 'SMILES'] = compound[0].canonical_smiles\n",
    "        except Exception as e:\n",
    "            print(f\"Error fetching SMILES for {compound_name}: {e}\")\n",
    "\n",
    "# Save the updated DataFrame back to a file\n",
    "df.to_csv('updated_substrates_2.txt', sep='\\t', index=False)"
   ]
  },
  {
   "cell_type": "code",
   "execution_count": 23,
   "metadata": {},
   "outputs": [
    {
     "name": "stdout",
     "output_type": "stream",
     "text": [
      "Rows with empty SMILES found:\n",
      "      ID                Compound_Name SMILES\n",
      "28  3IFA  D-Fructose 1,6-bisphosphate    NaN\n",
      "63  1FTA  D-Fructose 1,6-bisphosphate    NaN\n",
      "69  1QJV                       Pectin    NaN\n"
     ]
    }
   ],
   "source": [
    "df = pd.read_csv('updated_substrates.txt', sep='\\t', header=None)\n",
    "df.columns = ['ID', 'Compound_Name', 'SMILES']\n",
    "\n",
    "# Check for empty SMILES rows\n",
    "empty_smiles_rows = df[df['SMILES'].isna() | (df['SMILES'] == '')]\n",
    "\n",
    "# Display rows with empty SMILES\n",
    "if not empty_smiles_rows.empty:\n",
    "    print(\"Rows with empty SMILES found:\")\n",
    "    print(empty_smiles_rows)\n",
    "else:\n",
    "    print(\"No empty SMILES rows found.\")"
   ]
  },
  {
   "cell_type": "code",
   "execution_count": 31,
   "metadata": {},
   "outputs": [
    {
     "name": "stdout",
     "output_type": "stream",
     "text": [
      "SMILES: C(C1C(C(C(O1)(COP(=O)(O)O)O)O)O)OP(=O)(O)O\n"
     ]
    }
   ],
   "source": [
    "compound = pcp.get_compounds('D-Fructose-1,6-bisphosphate', 'name')\n",
    "if compound:\n",
    "    print(\"SMILES:\", compound[0].canonical_smiles)\n",
    "else:\n",
    "    print(\"Compound not found\")\n",
    "    "
   ]
  },
  {
   "cell_type": "code",
   "execution_count": 34,
   "metadata": {},
   "outputs": [
    {
     "name": "stdout",
     "output_type": "stream",
     "text": [
      "Cyclic SMILES not found for D-Fructose 1,6-bisphosphate\n",
      "Cyclic SMILES not found for D-Fructose 1,6-bisphosphate\n",
      "Cyclic SMILES not found for Pectin\n"
     ]
    }
   ],
   "source": [
    "import pandas as pd\n",
    "import pubchempy as pcp\n",
    "from rdkit import Chem\n",
    "from rdkit.Chem import AllChem\n",
    "\n",
    "# Load the file into a DataFrame\n",
    "df = pd.read_csv('substrates.txt', sep='\\t', header=None)\n",
    "df.columns = ['ID', 'Compound_Name', 'SMILES']\n",
    "\n",
    "# Function to fetch SMILES and convert to cyclic form if possible\n",
    "def fetch_cyclic_smiles(compound_name):\n",
    "    try:\n",
    "        # Fetch SMILES from PubChem\n",
    "        compound = pcp.get_compounds(compound_name, 'name')\n",
    "        if compound:\n",
    "            smiles = compound[0].canonical_smiles\n",
    "            # Convert to RDKit molecule\n",
    "            mol = Chem.MolFromSmiles(smiles)\n",
    "            if mol:\n",
    "                # Add explicit hydrogens to the molecule\n",
    "                mol = Chem.AddHs(mol)\n",
    "                # Attempt to generate the 3D conformer to ensure ring closure\n",
    "                AllChem.EmbedMolecule(mol)\n",
    "                # Use RDKit to convert to canonical SMILES in cyclic form if applicable\n",
    "                cyclic_smiles = Chem.MolToSmiles(mol, isomericSmiles=True, canonical=True)\n",
    "                return cyclic_smiles\n",
    "    except Exception as e:\n",
    "        print(f\"Error processing {compound_name}: {e}\")\n",
    "    return None\n",
    "\n",
    "# Loop through each row to check for NaN or empty SMILES\n",
    "for idx, row in df.iterrows():\n",
    "    if pd.isna(row['SMILES']) or row['SMILES'] == '':\n",
    "        compound_name = row['Compound_Name']\n",
    "        \n",
    "        # Try to fetch SMILES in cyclic form\n",
    "        cyclic_smiles = fetch_cyclic_smiles(compound_name)\n",
    "        \n",
    "        # If SMILES is found, update it in the DataFrame\n",
    "        if cyclic_smiles:\n",
    "            df.at[idx, 'SMILES'] = cyclic_smiles\n",
    "        else:\n",
    "            print(f\"Cyclic SMILES not found for {compound_name}\")\n",
    "\n",
    "# Save the updated DataFrame back to a file\n",
    "df.to_csv('updated_substrates_with_cyclic_smiles.txt', sep='\\t', index=False)\n"
   ]
  },
  {
   "cell_type": "code",
   "execution_count": 36,
   "metadata": {},
   "outputs": [
    {
     "name": "stderr",
     "output_type": "stream",
     "text": [
      "[20:08:27] SMILES Parse Error: syntax error while parsing: SMILES\n",
      "[20:08:27] SMILES Parse Error: Failed parsing SMILES 'SMILES' for input: 'SMILES'\n"
     ]
    },
    {
     "name": "stdout",
     "output_type": "stream",
     "text": [
      "Error processing Compound_Name: Python argument types in\n",
      "    rdkit.Chem.rdmolops.AddHs(NoneType)\n",
      "did not match C++ signature:\n",
      "    AddHs(class RDKit::ROMol mol, bool explicitOnly=False, bool addCoords=False, class boost::python::api::object onlyOnAtoms=None, bool addResidueInfo=False)\n",
      "PDB file for p-Nitrophenyl-beta-D-glucoside saved as p-Nitrophenyl-beta-D-glucoside.pdb\n",
      "PDB file for 4-Nitrophenyl phosphate saved as 4-Nitrophenyl_phosphate.pdb\n",
      "PDB file for Ampicillin saved as Ampicillin.pdb\n",
      "PDB file for Ampicillin saved as Ampicillin.pdb\n",
      "PDB file for Phosphotyrosine saved as Phosphotyrosine.pdb\n",
      "PDB file for GDP-alpha-D-Glucose saved as GDP-alpha-D-Glucose.pdb\n",
      "PDB file for Nitrocefin saved as Nitrocefin.pdb\n",
      "PDB file for DIBOA glucoside saved as DIBOA_glucoside.pdb\n",
      "PDB file for Benzylpenicillin saved as Benzylpenicillin.pdb\n",
      "PDB file for S-Ethyl-L-cysteine saved as S-Ethyl-L-cysteine.pdb\n",
      "PDB file for Peptide saved as Peptide.pdb\n",
      "PDB file for 2-Aminobenzoyl-GGFLRKHGQ-N-(2,4-dinitrophenyl)ethylenediamine saved as 2-Aminobenzoyl-GGFLRKHGQ-N-(2,4-dinitrophenyl)ethylenediamine.pdb\n",
      "PDB file for Acetamide saved as Acetamide.pdb\n"
     ]
    },
    {
     "name": "stderr",
     "output_type": "stream",
     "text": [
      "[20:08:28] UFFTYPER: Unrecognized atom type: *_ (0)\n",
      "[20:08:28] UFFTYPER: Unrecognized atom type: *_ (7)\n",
      "[20:08:28] UFFTYPER: Unrecognized atom type: *_ (0)\n",
      "[20:08:28] UFFTYPER: Unrecognized atom type: *_ (7)\n"
     ]
    },
    {
     "name": "stdout",
     "output_type": "stream",
     "text": [
      "PDB file for Penicillin G saved as Penicillin_G.pdb\n",
      "PDB file for 4-Nitrophenyl acetate saved as 4-Nitrophenyl_acetate.pdb\n",
      "PDB file for Triphosphate saved as Triphosphate.pdb\n",
      "PDB file for Acetylthiocholine saved as Acetylthiocholine.pdb\n",
      "PDB file for P1,P3-Bis(5'-adenosyl)-triphosphate saved as P1,P3-Bis(5'-adenosyl)-triphosphate.pdb\n",
      "PDB file for Cefoxitin saved as Cefoxitin.pdb\n",
      "PDB file for 4-Nitrophenyl-beta-D-galactopyranoside saved as 4-Nitrophenyl-beta-D-galactopyranoside.pdb\n",
      "PDB file for Ceftazidime saved as Ceftazidime.pdb\n",
      "PDB file for Ceftazidime saved as Ceftazidime.pdb\n",
      "PDB file for 3,4-Dinitrophenyl-beta-D-galactopyranoside saved as 3,4-Dinitrophenyl-beta-D-galactopyranoside.pdb\n",
      "PDB file for 2-Nitro-5-[(Phenylacetyl)amino]benzoic acid saved as 2-Nitro-5-[(Phenylacetyl)amino]benzoic_acid.pdb\n",
      "PDB file for ATP saved as ATP.pdb\n",
      "PDB file for p-Nitrophenyl-beta-D-fucopyranoside saved as p-Nitrophenyl-beta-D-fucopyranoside.pdb\n",
      "PDB file for Phosphonoacetaldehyde saved as Phosphonoacetaldehyde.pdb\n",
      "PDB file for D-Fructose 1,6-bisphosphate saved as D-Fructose_1,6-bisphosphate.pdb\n",
      "PDB file for Acetylthiocholine saved as Acetylthiocholine.pdb\n",
      "PDB file for Propionylthiocholine saved as Propionylthiocholine.pdb\n",
      "PDB file for p-Nitrophenyl-alpha-D-glucoside saved as p-Nitrophenyl-alpha-D-glucoside.pdb\n",
      "PDB file for Met-Gly-Met-Met saved as Met-Gly-Met-Met.pdb\n",
      "PDB file for Maltotriose saved as Maltotriose.pdb\n",
      "PDB file for p-Nitrophenyl butyrate saved as p-Nitrophenyl_butyrate.pdb\n",
      "PDB file for Cellobiose saved as Cellobiose.pdb\n",
      "PDB file for Thiamine triphosphate saved as Thiamine_triphosphate.pdb\n",
      "PDB file for Isomaltose saved as Isomaltose.pdb\n",
      "PDB file for L-Leucine-p-nitroanilide saved as L-Leucine-p-nitroanilide.pdb\n",
      "PDB file for 4-Nitrophenyl phosphate saved as 4-Nitrophenyl_phosphate.pdb\n",
      "PDB file for 2-Nitrophenyl-beta-D-galactopyranoside saved as 2-Nitrophenyl-beta-D-galactopyranoside.pdb\n",
      "PDB file for 4-Nitrophenyl acetate saved as 4-Nitrophenyl_acetate.pdb\n",
      "PDB file for 4-Nitrophenyl-alpha-L-arabinopyranoside saved as 4-Nitrophenyl-alpha-L-arabinopyranoside.pdb\n",
      "PDB file for 3',5'-Cyclic AMP saved as 3',5'-Cyclic_AMP.pdb\n",
      "PDB file for L-Arginine saved as L-Arginine.pdb\n",
      "PDB file for Arabinotetraose saved as Arabinotetraose.pdb\n",
      "PDB file for 4-Nitrophenyl phosphate saved as 4-Nitrophenyl_phosphate.pdb\n",
      "PDB file for Cellobiose saved as Cellobiose.pdb\n",
      "PDB file for Cefotaxime saved as Cefotaxime.pdb\n",
      "PDB file for Cephalothin saved as Cephalothin.pdb\n",
      "PDB file for D-Fructose 2,6-bisphosphate saved as D-Fructose_2,6-bisphosphate.pdb\n",
      "PDB file for p-Nitrophenyl-beta-D-glucoside saved as p-Nitrophenyl-beta-D-glucoside.pdb\n",
      "PDB file for 2-Phenylacetamide saved as 2-Phenylacetamide.pdb\n",
      "PDB file for 2-Phosphonoacetaldehyde saved as 2-Phosphonoacetaldehyde.pdb\n",
      "PDB file for Paraoxon saved as Paraoxon.pdb\n",
      "PDB file for Nitrocefin saved as Nitrocefin.pdb\n",
      "PDB file for 2',3'-Cyclic CMP saved as 2',3'-Cyclic_CMP.pdb\n",
      "PDB file for p-Nitrophenyl-beta-D-xylopyranoside saved as p-Nitrophenyl-beta-D-xylopyranoside.pdb\n",
      "PDB file for D-Fructose 1,6-bisphosphate saved as D-Fructose_1,6-bisphosphate.pdb\n",
      "PDB file for Succinyl-Ala-Ala-Pro-Phe-p-nitroanilide saved as Succinyl-Ala-Ala-Pro-Phe-p-nitroanilide.pdb\n",
      "PDB file for 2'-(4-Methylumbelliferyl)-alpha-D-N-acetylneuraminic acid saved as 2'-(4-Methylumbelliferyl)-alpha-D-N-acetylneuraminic_acid.pdb\n",
      "PDB file for Nitrocefin saved as Nitrocefin.pdb\n",
      "PDB file for 3-Hydroxyphenylacetyl-CoA saved as 3-Hydroxyphenylacetyl-CoA.pdb\n",
      "PDB file for D-Fructose 1,6-bisphosphate saved as D-Fructose_1,6-bisphosphate.pdb\n",
      "PDB file for 6-Oxocamphor saved as 6-Oxocamphor.pdb\n",
      "PDB file for Penicillin G saved as Penicillin_G.pdb\n",
      "PDB file for Cephaloridine saved as Cephaloridine.pdb\n",
      "PDB file for 4-Methylumbelliferyl-beta-D-glucoside saved as 4-Methylumbelliferyl-beta-D-glucoside.pdb\n",
      "PDB file for o-Nitrophenyl-beta-D-galactopyranoside saved as o-Nitrophenyl-beta-D-galactopyranoside.pdb\n",
      "Skipping Pectin as it has no SMILES.\n",
      "PDB file for Biapenem saved as Biapenem.pdb\n",
      "PDB file for Cephalothin saved as Cephalothin.pdb\n",
      "PDB file for Penicillin G saved as Penicillin_G.pdb\n",
      "PDB file for Cellotriose saved as Cellotriose.pdb\n",
      "PDB file for Propanoyl-CoA saved as Propanoyl-CoA.pdb\n",
      "PDB file for Oxaloacetate saved as Oxaloacetate.pdb\n",
      "PDB file for ATP saved as ATP.pdb\n",
      "PDB file for p-Nitrophenyl-alpha-D-galactoside saved as p-Nitrophenyl-alpha-D-galactoside.pdb\n",
      "PDB file for 4-Nitrophenyl-alpha-L-arabinopyranoside saved as 4-Nitrophenyl-alpha-L-arabinopyranoside.pdb\n",
      "PDB file for Penicillin G saved as Penicillin_G.pdb\n",
      "PDB file for Penicillin G saved as Penicillin_G.pdb\n",
      "PDB file for Nitrocefin saved as Nitrocefin.pdb\n",
      "PDB file for 1,2-Dibromoethane saved as 1,2-Dibromoethane.pdb\n",
      "PDB file for Gly-Pro-4-Nitroanilide saved as Gly-Pro-4-Nitroanilide.pdb\n",
      "PDB file for Cephaloridine saved as Cephaloridine.pdb\n",
      "PDB file for Acetyl-CoA saved as Acetyl-CoA.pdb\n",
      "PDB file for 4-Nitrophenyl-beta-D-galactopyranoside saved as 4-Nitrophenyl-beta-D-galactopyranoside.pdb\n",
      "PDB file for (R)-S-Lactoylglutathione saved as (R)-S-Lactoylglutathione.pdb\n",
      "PDB file for L-Arginine saved as L-Arginine.pdb\n",
      "PDB file for DIMBOA glucoside saved as DIMBOA_glucoside.pdb\n",
      "PDB file for Penicillin G saved as Penicillin_G.pdb\n",
      "PDB file for 4-Nitrophenyl phosphate saved as 4-Nitrophenyl_phosphate.pdb\n",
      "PDB file for p-Nitrophenyl-beta-D-glucoside saved as p-Nitrophenyl-beta-D-glucoside.pdb\n",
      "PDB file for Paraoxon saved as Paraoxon.pdb\n",
      "PDB file for 4-Nitrophenyl phosphate saved as 4-Nitrophenyl_phosphate.pdb\n",
      "PDB file for GDP-alpha-D-mannose saved as GDP-alpha-D-mannose.pdb\n",
      "PDB file for Succinyl-Ala-Ala-Pro-Phe-p-nitroanilide saved as Succinyl-Ala-Ala-Pro-Phe-p-nitroanilide.pdb\n",
      "PDB file for 6,8-Difluoro-4-methylumbelliferyl phosphate saved as 6,8-Difluoro-4-methylumbelliferyl_phosphate.pdb\n",
      "PDB file for D-Fructose 1,6-bisphosphate saved as D-Fructose_1,6-bisphosphate.pdb\n"
     ]
    }
   ],
   "source": [
    "import pandas as pd\n",
    "from rdkit import Chem\n",
    "from rdkit.Chem import AllChem\n",
    "from rdkit.Chem import rdMolTransforms\n",
    "\n",
    "# Load the file into a DataFrame\n",
    "df = pd.read_csv('cyclic_smiles.txt', sep='\\t', header=None)\n",
    "df.columns = ['ID', 'Compound_Name', 'SMILES']\n",
    "\n",
    "# Loop through each SMILES and create a PDB file\n",
    "for idx, row in df.iterrows():\n",
    "    compound_name = row['Compound_Name']\n",
    "    smiles = row['SMILES']\n",
    "    \n",
    "    if pd.isna(smiles) or smiles == '':\n",
    "        print(f\"Skipping {compound_name} as it has no SMILES.\")\n",
    "        continue\n",
    "    \n",
    "    try:\n",
    "        # Convert SMILES to a molecule\n",
    "        mol = Chem.MolFromSmiles(smiles)\n",
    "        \n",
    "        # Add hydrogens\n",
    "        mol = Chem.AddHs(mol)\n",
    "        \n",
    "        # Generate 3D coordinates\n",
    "        AllChem.EmbedMolecule(mol, randomSeed=0xf00d)\n",
    "        AllChem.UFFOptimizeMolecule(mol)  # Energy minimization\n",
    "        \n",
    "        # Save as PDB file\n",
    "        pdb_filename = f\"{compound_name.replace(' ', '_')}.pdb\"\n",
    "        with open(pdb_filename, 'w') as f:\n",
    "            f.write(Chem.MolToPDBBlock(mol))\n",
    "        \n",
    "        print(f\"PDB file for {compound_name} saved as {pdb_filename}\")\n",
    "    \n",
    "    except Exception as e:\n",
    "        print(f\"Error processing {compound_name}: {e}\")\n"
   ]
  },
  {
   "cell_type": "code",
   "execution_count": 1,
   "metadata": {},
   "outputs": [
    {
     "name": "stdout",
     "output_type": "stream",
     "text": [
      "unique_enzymes.csv has been generated successfully.\n"
     ]
    }
   ],
   "source": [
    "import pandas as pd\n",
    "\n",
    "# Load the original Excel file\n",
    "df = pd.read_excel('catalyst.xlsx')\n",
    "\n",
    "# Extract unique rows based on Enzyme Name, PDB ID, Chain ID, and Mutated Site\n",
    "unique_enzymes = df[['Enzyme Name', 'PDB ID', 'Chain ID', 'Mutated Site']].drop_duplicates()\n",
    "\n",
    "# Function to parse the mutation details from 'Mutated Site' (e.g., \"L177A\")\n",
    "def parse_mutation(mutation_str):\n",
    "    original_residue = mutation_str[7]  # First character after \"mutant \"\n",
    "    position = ''.join(filter(str.isdigit, mutation_str))  # Extract numeric position\n",
    "    new_residue = mutation_str[-1]  # Last character for the new residue\n",
    "    return original_residue, int(position), new_residue\n",
    "\n",
    "# Apply parsing to extract original residue, position, and new residue\n",
    "unique_enzymes[['Original Residue', 'Residue Position', 'New Residue']] = unique_enzymes['Mutated Site'].apply(parse_mutation).apply(pd.Series)\n",
    "\n",
    "# Save the structured data to 'unique_enzymes.csv'\n",
    "unique_enzymes.to_csv('unique_enzymes.csv', index=False)\n",
    "\n",
    "print(\"unique_enzymes.csv has been generated successfully.\")\n"
   ]
  },
  {
   "cell_type": "code",
   "execution_count": 4,
   "metadata": {},
   "outputs": [
    {
     "ename": "ModuleNotFoundError",
     "evalue": "No module named 'pymol2'",
     "output_type": "error",
     "traceback": [
      "\u001b[1;31m---------------------------------------------------------------------------\u001b[0m",
      "\u001b[1;31mModuleNotFoundError\u001b[0m                       Traceback (most recent call last)",
      "Cell \u001b[1;32mIn[4], line 2\u001b[0m\n\u001b[0;32m      1\u001b[0m \u001b[38;5;28;01mimport\u001b[39;00m \u001b[38;5;21;01mpandas\u001b[39;00m \u001b[38;5;28;01mas\u001b[39;00m \u001b[38;5;21;01mpd\u001b[39;00m\n\u001b[1;32m----> 2\u001b[0m \u001b[38;5;28;01mimport\u001b[39;00m \u001b[38;5;21;01mpymol2\u001b[39;00m\n\u001b[0;32m      3\u001b[0m \u001b[38;5;28;01mimport\u001b[39;00m \u001b[38;5;21;01mos\u001b[39;00m\n\u001b[0;32m      5\u001b[0m \u001b[38;5;66;03m# Path to your data folder containing the downloaded PDB files\u001b[39;00m\n",
      "\u001b[1;31mModuleNotFoundError\u001b[0m: No module named 'pymol2'"
     ]
    }
   ],
   "source": [
    "import pandas as pd\n",
    "import pymol2\n",
    "import os\n",
    "\n",
    "# Path to your data folder containing the downloaded PDB files\n",
    "data_folder = \"../data\"\n",
    "output_folder = \"../mutated_structures\"\n",
    "os.makedirs(output_folder, exist_ok=True)\n",
    "\n",
    "# Load the unique enzyme data from the CSV file\n",
    "unique_enzymes = pd.read_csv('unique_enzymes.csv')\n",
    "\n",
    "# Define function to mutate each enzyme\n",
    "def mutate_enzyme(pdb_filepath, chain, residue_position, new_residue, output_filename):\n",
    "    with pymol2.PyMOL() as pymol:\n",
    "        pymol.cmd.load(pdb_filepath)  # Load the PDB file from the local directory\n",
    "        pymol.cmd.wizard(\"mutagenesis\")\n",
    "        pymol.cmd.get_wizard().set_mode(new_residue)  # Set the target amino acid for mutation\n",
    "        pymol.cmd.get_wizard().do_select(f\"resi {residue_position} and chain {chain}\")\n",
    "        pymol.cmd.get_wizard().apply()  # Apply the mutation\n",
    "        pymol.cmd.set_wizard()  # Turn off the wizard\n",
    "        pymol.cmd.save(output_filename)  # Save the mutated structure as PDB\n",
    "\n",
    "# Loop through each unique enzyme and apply mutations\n",
    "for idx, row in unique_enzymes.iterrows():\n",
    "    pdb_id = row['PDB ID']\n",
    "    chain = row['Chain ID']\n",
    "    residue_position = row['Residue Position']\n",
    "    new_residue = row['New Residue']\n",
    "    enzyme_name = row['Enzyme Name'].replace(\" \", \"_\")\n",
    "    \n",
    "    # Define file paths\n",
    "    pdb_filepath = os.path.join(data_folder, f\"{pdb_id}.pdb\")\n",
    "    output_filename = os.path.join(output_folder, f\"mutated_{enzyme_name}_{pdb_id}_res{residue_position}_{new_residue}.pdb\")\n",
    "    \n",
    "    # Check if the PDB file exists before mutating\n",
    "    if not os.path.isfile(pdb_filepath):\n",
    "        print(f\"PDB file for {pdb_id} not found in the data folder. Skipping {enzyme_name}.\")\n",
    "        continue\n",
    "    \n",
    "    # Perform the mutation\n",
    "    print(f\"Processing {enzyme_name} ({pdb_id}) - Mutating residue {residue_position} to {new_residue}\")\n",
    "    mutate_enzyme(pdb_filepath, chain, residue_position, new_residue, output_filename)\n"
   ]
  }
 ],
 "metadata": {
  "kernelspec": {
   "display_name": "base",
   "language": "python",
   "name": "python3"
  },
  "language_info": {
   "codemirror_mode": {
    "name": "ipython",
    "version": 3
   },
   "file_extension": ".py",
   "mimetype": "text/x-python",
   "name": "python",
   "nbconvert_exporter": "python",
   "pygments_lexer": "ipython3",
   "version": "3.11.5"
  }
 },
 "nbformat": 4,
 "nbformat_minor": 2
}
