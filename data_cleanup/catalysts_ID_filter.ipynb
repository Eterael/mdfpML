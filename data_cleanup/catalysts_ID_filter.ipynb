{
 "cells": [
  {
   "cell_type": "code",
   "execution_count": 6,
   "metadata": {},
   "outputs": [],
   "source": [
    "import pandas as pd"
   ]
  },
  {
   "cell_type": "code",
   "execution_count": 10,
   "metadata": {},
   "outputs": [],
   "source": [
    "infile = \"catalysts-11-00286-s001.csv\"\n",
    "\n",
    "try:\n",
    "    df = pd.read_csv(infile, encoding = 'utf-8')\n",
    "except:\n",
    "    df = pd.read_csv(infile, encoding = 'latin1')"
   ]
  },
  {
   "cell_type": "code",
   "execution_count": 12,
   "metadata": {},
   "outputs": [
    {
     "name": "stdout",
     "output_type": "stream",
     "text": [
      "Index(['Enzyme Name', 'UniprotID', 'ECNumber', 'Organism', 'PDB ID',\n",
      "       'Chain ID', 'Mutated Site', 'Reaction', 'Reaction Substrate ',\n",
      "       'SMILES of Substrate', 'Product', 'Temperature(¡ãC)', 'pH',\n",
      "       'Catalytic Efficicnecy Change', 'PubMedID'],\n",
      "      dtype='object')\n"
     ]
    }
   ],
   "source": [
    "print(df.columns)"
   ]
  },
  {
   "cell_type": "code",
   "execution_count": 20,
   "metadata": {},
   "outputs": [
    {
     "name": "stdout",
     "output_type": "stream",
     "text": [
      "['1,2-Dibromoethane', 'p-Nitrophenyl-alpha-D-glucoside', 'p-Nitrophenyl-alpha-D-glucoside', 'D-Fructose 1,6-bisphosphate', 'Phosphonoacetaldehyde', 'Phosphonoacetaldehyde', 'Phosphonoacetaldehyde', 'Phosphonoacetaldehyde', '2-Phosphonoacetaldehyde', '2-Phosphonoacetaldehyde', 'Acetyl-CoA', 'Acetyl-CoA', 'Propanoyl-CoA', 'Oxaloacetate', 'Oxaloacetate', \"3',5'-Cyclic AMP\", \"3',5'-Cyclic AMP\", '4-Nitrophenyl phosphate', '4-Nitrophenyl phosphate', '4-Nitrophenyl phosphate', '4-Nitrophenyl phosphate', '4-Nitrophenyl phosphate', '4-Nitrophenyl phosphate', '4-Nitrophenyl phosphate', '4-Nitrophenyl phosphate', 'D-Fructose 1,6-bisphosphate', 'D-Fructose 1,6-bisphosphate', 'D-Fructose 1,6-bisphosphate', 'D-Fructose 1,6-bisphosphate', 'D-Fructose 1,6-bisphosphate', 'D-Fructose 1,6-bisphosphate', '4-Nitrophenyl-alpha-L-arabinopyranoside', 'o-Nitrophenyl-beta-D-galactopyranoside', '4-Nitrophenyl-beta-D-galactopyranoside', '2-Nitrophenyl-beta-D-galactopyranoside', '4-Nitrophenyl-beta-D-galactopyranoside', '2-Nitrophenyl-beta-D-galactopyranoside', '4-Nitrophenyl-beta-D-galactopyranoside', '4-Nitrophenyl-beta-D-galactopyranoside', 'o-Nitrophenyl-beta-D-galactopyranoside', '3,4-Dinitrophenyl-beta-D-galactopyranoside', 'Succinyl-Ala-Ala-Pro-Phe-p-nitroanilide', 'Succinyl-Ala-Ala-Pro-Phe-p-nitroanilide', 'Peptide', 'Peptide', 'Peptide', 'Peptide', 'Peptide', 'Peptide', 'Peptide', 'Peptide', 'Peptide', 'Peptide', 'Peptide', 'Peptide', 'Penicillin G', \"2'-(4-Methylumbelliferyl)-alpha-D-N-acetylneuraminic acid\", \"2'-(4-Methylumbelliferyl)-alpha-D-N-acetylneuraminic acid\", \"2'-(4-Methylumbelliferyl)-alpha-D-N-acetylneuraminic acid\", \"2'-(4-Methylumbelliferyl)-alpha-D-N-acetylneuraminic acid\", \"2'-(4-Methylumbelliferyl)-alpha-D-N-acetylneuraminic acid\", \"2'-(4-Methylumbelliferyl)-alpha-D-N-acetylneuraminic acid\", 'Nitrocefin', 'Penicillin G', 'Penicillin G', 'Penicillin G', 'Penicillin G', 'Nitrocefin', 'Maltotriose', 'Ceftazidime', 'Ceftazidime', 'Ceftazidime', 'Ceftazidime', '2-Nitro-5-[(Phenylacetyl)amino]benzoic acid', '2-Nitro-5-[(Phenylacetyl)amino]benzoic acid', '2-Phenylacetamide', 'Penicillin G', 'L-Arginine', 'L-Arginine', 'L-Arginine', 'L-Arginine', 'L-Arginine', 'L-Arginine', 'D-Fructose 1,6-bisphosphate', 'Paraoxon', 'Paraoxon', 'Paraoxon', 'Paraoxon', 'Paraoxon', 'Paraoxon', 'Paraoxon', 'Triphosphate', 'Triphosphate', 'Triphosphate', 'Triphosphate', 'Nitrocefin', 'Nitrocefin', 'Ampicillin', 'Cephalothin', 'Met-Gly-Met-Met', 'Pectin', 'Pectin', 'Pectin', 'Pectin', 'Pectin', '4-Nitrophenyl phosphate', '4-Nitrophenyl phosphate', 'Phosphotyrosine', 'Phosphotyrosine', 'Phosphotyrosine', 'Phosphotyrosine', 'Acetamide', 'Acetamide', 'L-Arginine', 'L-Arginine', 'L-Arginine', 'L-Arginine', 'L-Arginine', '4-Nitrophenyl phosphate', '4-Nitrophenyl phosphate', '4-Nitrophenyl phosphate', '4-Nitrophenyl phosphate', '4-Nitrophenyl phosphate', '4-Nitrophenyl phosphate', '4-Nitrophenyl phosphate', '4-Nitrophenyl phosphate', '4-Nitrophenyl phosphate', '4-Nitrophenyl phosphate', '4-Nitrophenyl phosphate', 'Penicillin G', 'Acetylthiocholine', 'Acetylthiocholine', 'Acetylthiocholine', 'Acetylthiocholine', 'Acetylthiocholine', 'Acetylthiocholine', 'Acetylthiocholine', 'Acetylthiocholine', 'Acetylthiocholine', 'Acetylthiocholine', 'Acetylthiocholine', 'Acetylthiocholine', 'Acetylthiocholine', 'Acetylthiocholine', 'Acetylthiocholine', 'Acetylthiocholine', 'Acetylthiocholine', 'Acetylthiocholine', '4-Nitrophenyl acetate', '4-Nitrophenyl acetate', 'Propionylthiocholine', 'Propionylthiocholine', 'p-Nitrophenyl butyrate', 'p-Nitrophenyl butyrate', 'p-Nitrophenyl butyrate', 'p-Nitrophenyl butyrate', 'p-Nitrophenyl butyrate', 'p-Nitrophenyl butyrate', 'p-Nitrophenyl butyrate', 'D-Fructose 2,6-bisphosphate', 'D-Fructose 2,6-bisphosphate', 'D-Fructose 2,6-bisphosphate', 'D-Fructose 2,6-bisphosphate', 'D-Fructose 2,6-bisphosphate', 'Penicillin G', 'Penicillin G', 'Penicillin G', 'Penicillin G', 'Penicillin G', 'Cephaloridine', 'Nitrocefin', 'Nitrocefin', 'Nitrocefin', 'Paraoxon', 'Paraoxon', 'Gly-Pro-4-Nitroanilide', 'S-Ethyl-L-cysteine', 'S-Ethyl-L-cysteine', 'S-Ethyl-L-cysteine', '4-Nitrophenyl acetate', 'GDP-alpha-D-mannose', 'GDP-alpha-D-mannose', 'GDP-alpha-D-mannose', 'GDP-alpha-D-mannose', 'GDP-alpha-D-Glucose', 'GDP-alpha-D-mannose', 'GDP-alpha-D-mannose', 'GDP-alpha-D-mannose', 'GDP-alpha-D-mannose', 'GDP-alpha-D-mannose', 'GDP-alpha-D-mannose', 'GDP-alpha-D-mannose', 'GDP-alpha-D-mannose', 'GDP-alpha-D-mannose', 'GDP-alpha-D-mannose', 'GDP-alpha-D-mannose', 'GDP-alpha-D-mannose', 'GDP-alpha-D-mannose', '2-Aminobenzoyl-GGFLRKHGQ-N-(2,4-dinitrophenyl)ethylenediamine', '2-Aminobenzoyl-GGFLRKHGQ-N-(2,4-dinitrophenyl)ethylenediamine', 'Succinyl-Ala-Ala-Pro-Phe-p-nitroanilide', 'Succinyl-Ala-Ala-Pro-Phe-p-nitroanilide', 'Succinyl-Ala-Ala-Pro-Phe-p-nitroanilide', 'Succinyl-Ala-Ala-Pro-Phe-p-nitroanilide', 'Succinyl-Ala-Ala-Pro-Phe-p-nitroanilide', 'Succinyl-Ala-Ala-Pro-Phe-p-nitroanilide', 'Succinyl-Ala-Ala-Pro-Phe-p-nitroanilide', 'Succinyl-Ala-Ala-Pro-Phe-p-nitroanilide', 'Succinyl-Ala-Ala-Pro-Phe-p-nitroanilide', 'p-Nitrophenyl-beta-D-xylopyranoside', 'Cephaloridine', 'Ceftazidime', 'Ceftazidime', 'Ceftazidime', 'Ceftazidime', 'Ceftazidime', 'Ceftazidime', '4-Methylumbelliferyl-beta-D-glucoside', '4-Methylumbelliferyl-beta-D-glucoside', 'p-Nitrophenyl-beta-D-glucoside', 'p-Nitrophenyl-beta-D-glucoside', 'p-Nitrophenyl-beta-D-glucoside', 'p-Nitrophenyl-beta-D-glucoside', 'p-Nitrophenyl-beta-D-glucoside', '4-Methylumbelliferyl-beta-D-glucoside', '4-Methylumbelliferyl-beta-D-glucoside', '4-Methylumbelliferyl-beta-D-glucoside', \"P1,P3-Bis(5'-adenosyl)-triphosphate\", 'Nitrocefin', 'Nitrocefin', 'Biapenem', 'Nitrocefin', 'Nitrocefin', 'Cefoxitin', \"2',3'-Cyclic CMP\", 'Ampicillin', 'Cephalothin', 'Cephalothin', 'Penicillin G', 'Cefotaxime', 'Cefotaxime', 'Benzylpenicillin', 'ATP', 'ATP', 'ATP', 'Arabinotetraose', 'Arabinotetraose', 'Arabinotetraose', 'Arabinotetraose', '4-Nitrophenyl phosphate', '4-Nitrophenyl phosphate', '4-Nitrophenyl phosphate', '4-Nitrophenyl phosphate', '4-Nitrophenyl phosphate', '4-Nitrophenyl phosphate', '6,8-Difluoro-4-methylumbelliferyl phosphate', '6,8-Difluoro-4-methylumbelliferyl phosphate', '6,8-Difluoro-4-methylumbelliferyl phosphate', 'L-Leucine-p-nitroanilide', 'ATP', 'ATP', 'ATP', 'ATP', '(R)-S-Lactoylglutathione', 'Cellobiose', 'Cellobiose', 'Cellobiose', 'Cellobiose', 'Cellobiose', '4-Nitrophenyl phosphate', '4-Nitrophenyl phosphate', 'Cellobiose', 'Cellobiose', 'Cellotriose', 'Cellotriose', 'p-Nitrophenyl-alpha-D-galactoside', 'p-Nitrophenyl-alpha-D-galactoside', 'Thiamine triphosphate', 'Thiamine triphosphate', 'Thiamine triphosphate', 'Thiamine triphosphate', 'Thiamine triphosphate', 'Thiamine triphosphate', 'Thiamine triphosphate', 'Thiamine triphosphate', 'Thiamine triphosphate', '6-Oxocamphor', '6-Oxocamphor', '6-Oxocamphor', '6-Oxocamphor', '6-Oxocamphor', 'Isomaltose', 'DIBOA glucoside', 'DIBOA glucoside', 'DIMBOA glucoside', 'DIMBOA glucoside', 'DIMBOA glucoside', 'DIMBOA glucoside', 'p-Nitrophenyl-beta-D-glucoside', 'p-Nitrophenyl-beta-D-glucoside', 'p-Nitrophenyl-beta-D-glucoside', 'p-Nitrophenyl-beta-D-fucopyranoside', '4-Nitrophenyl-alpha-L-arabinopyranoside', 'p-Nitrophenyl-beta-D-glucoside', '4-Nitrophenyl-beta-D-galactopyranoside', '4-Nitrophenyl-beta-D-galactopyranoside', '3-Hydroxyphenylacetyl-CoA', '3-Hydroxyphenylacetyl-CoA', '3-Hydroxyphenylacetyl-CoA', '3-Hydroxyphenylacetyl-CoA', '3-Hydroxyphenylacetyl-CoA', '3-Hydroxyphenylacetyl-CoA', '3-Hydroxyphenylacetyl-CoA', '3-Hydroxyphenylacetyl-CoA']\n"
     ]
    }
   ],
   "source": [
    "print(list(df['Reaction Substrate ']))"
   ]
  },
  {
   "cell_type": "code",
   "execution_count": 18,
   "metadata": {},
   "outputs": [],
   "source": [
    "outfile  = \"pdb_ids.txt\"\n",
    "PDB_id = list(df['PDB ID'])\n",
    "PDB_id = set(PDB_id)\n",
    "with open(outfile, 'w+') as f:\n",
    "    for line in PDB_id:\n",
    "        f.write(line + \"\\n\")"
   ]
  }
 ],
 "metadata": {
  "kernelspec": {
   "display_name": "test",
   "language": "python",
   "name": "python3"
  },
  "language_info": {
   "codemirror_mode": {
    "name": "ipython",
    "version": 3
   },
   "file_extension": ".py",
   "mimetype": "text/x-python",
   "name": "python",
   "nbconvert_exporter": "python",
   "pygments_lexer": "ipython3",
   "version": "3.12.5"
  }
 },
 "nbformat": 4,
 "nbformat_minor": 2
}
